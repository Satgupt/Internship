{
 "cells": [
  {
   "cell_type": "code",
   "execution_count": 1,
   "id": "88bf943b",
   "metadata": {},
   "outputs": [],
   "source": [
    "import selenium\n",
    "from selenium import webdriver\n",
    "import pandas as pd\n",
    "import warnings\n",
    "warnings.filterwarnings('ignore')"
   ]
  },
  {
   "cell_type": "raw",
   "id": "f14c1496",
   "metadata": {},
   "source": [
    "Q1: Write a python program to scrape data for “Data Analyst” Job position in “Bangalore” location. You\n",
    "have to scrape the job-title, job-location, company_name, experience_required. You have to scrape first 10\n",
    "jobs data.\n",
    "This task will be done in following steps:\n",
    "1. First get the webpage https://www.naukri.com/\n",
    "2. Enter “Data Analyst” in “Skill, Designations, Companies” field and enter “Bangalore” in “enter the\n",
    "location” field.\n",
    "3. Then click the search button.\n",
    "4. Then scrape the data for the first 10 jobs results you get.\n",
    "5. Finally create a dataframe of the scraped data.\n",
    "Note: All of the above steps have to be done in code. No step is to be done manually."
   ]
  },
  {
   "cell_type": "code",
   "execution_count": 69,
   "id": "82e6d068",
   "metadata": {},
   "outputs": [],
   "source": [
    "driver = webdriver.Chrome(r'C:\\Users\\welcome\\Desktop\\chromedriver_win32\\chromedriver.exe')"
   ]
  },
  {
   "cell_type": "code",
   "execution_count": 70,
   "id": "dc6f7fc7",
   "metadata": {},
   "outputs": [],
   "source": [
    "url = 'https://www.naukri.com/'\n",
    "driver.get(url)"
   ]
  },
  {
   "cell_type": "code",
   "execution_count": 71,
   "id": "98734a78",
   "metadata": {},
   "outputs": [
    {
     "data": {
      "text/plain": [
       "<selenium.webdriver.remote.webelement.WebElement (session=\"21bf79a13ec43f951ac76b9eda378493\", element=\"50af6f96-eea5-4e80-bc0c-a5f0e9499b31\")>"
      ]
     },
     "execution_count": 71,
     "metadata": {},
     "output_type": "execute_result"
    }
   ],
   "source": [
    "search_job = driver.find_element_by_class_name(\"suggestor-input\")\n",
    "search_job"
   ]
  },
  {
   "cell_type": "code",
   "execution_count": 72,
   "id": "ae0aaafd",
   "metadata": {},
   "outputs": [],
   "source": [
    "search_job.send_keys(\"Data Analyst\")"
   ]
  },
  {
   "cell_type": "code",
   "execution_count": 73,
   "id": "25a6a440",
   "metadata": {},
   "outputs": [],
   "source": [
    "search_loc = driver.find_element_by_xpath('/html/body/div/div[2]/div[3]/div/div/div[3]/div/div/div/input')"
   ]
  },
  {
   "cell_type": "code",
   "execution_count": 74,
   "id": "9f4320a8",
   "metadata": {},
   "outputs": [],
   "source": [
    "search_loc.send_keys(\"Banglore\")"
   ]
  },
  {
   "cell_type": "code",
   "execution_count": 75,
   "id": "64a0ab0f",
   "metadata": {},
   "outputs": [],
   "source": [
    "search_button=driver.find_element_by_class_name(\"qsbSubmit\")"
   ]
  },
  {
   "cell_type": "code",
   "execution_count": 76,
   "id": "25ae1b9d",
   "metadata": {},
   "outputs": [],
   "source": [
    "search_button.click()"
   ]
  },
  {
   "cell_type": "code",
   "execution_count": 77,
   "id": "4c55f3f1",
   "metadata": {},
   "outputs": [
    {
     "data": {
      "text/plain": [
       "20"
      ]
     },
     "execution_count": 77,
     "metadata": {},
     "output_type": "execute_result"
    }
   ],
   "source": [
    "title_tag = driver.find_elements_by_xpath('//a[@class=\"title fw500 ellipsis\"]')\n",
    "len(title_tag)"
   ]
  },
  {
   "cell_type": "code",
   "execution_count": 78,
   "id": "5802368e",
   "metadata": {},
   "outputs": [],
   "source": [
    "job_titles =[]\n",
    "\n",
    "for i in title_tag:\n",
    "    job_titles.append(i.text)"
   ]
  },
  {
   "cell_type": "code",
   "execution_count": 79,
   "id": "02e16974",
   "metadata": {},
   "outputs": [
    {
     "data": {
      "text/plain": [
       "['Hiring -Data Analyst, Business Analyst, MIS Analyst -3rd Party Payroll',\n",
       " 'Senior Data Analyst - Data Modeling/Database Design',\n",
       " 'Data analyst',\n",
       " 'Data Analyst',\n",
       " 'Senior Data Analyst - Collibra',\n",
       " 'Consultant - Data Analyst',\n",
       " 'Data Analyst - Python/SQL',\n",
       " 'Data Analyst - IT',\n",
       " 'Lead CLR Data Analyst',\n",
       " 'Data Analyst']"
      ]
     },
     "execution_count": 79,
     "metadata": {},
     "output_type": "execute_result"
    }
   ],
   "source": [
    "jobtitle = job_titles[:10:]\n",
    "jobtitle"
   ]
  },
  {
   "cell_type": "code",
   "execution_count": 80,
   "id": "49bbb830",
   "metadata": {},
   "outputs": [
    {
     "data": {
      "text/plain": [
       "20"
      ]
     },
     "execution_count": 80,
     "metadata": {},
     "output_type": "execute_result"
    }
   ],
   "source": [
    "company_tags = driver.find_elements_by_xpath('//a[@class=\"subTitle ellipsis fleft\"]')\n",
    "len(company_tags)"
   ]
  },
  {
   "cell_type": "code",
   "execution_count": 81,
   "id": "e3ec6b9f",
   "metadata": {},
   "outputs": [
    {
     "data": {
      "text/plain": [
       "['Flipkart',\n",
       " 'K & R Enterprises',\n",
       " 'GSK India',\n",
       " 'Aldius Consulting Services Pvt Ltd (Paramantra)',\n",
       " 'Shell',\n",
       " 'Flipkart',\n",
       " 'Affine',\n",
       " 'Yespired',\n",
       " 'Target',\n",
       " 'National Entrepreneurship']"
      ]
     },
     "execution_count": 81,
     "metadata": {},
     "output_type": "execute_result"
    }
   ],
   "source": [
    "company_name=[]\n",
    "for i in company_tags:\n",
    "    company_name.append(i.text)\n",
    "\n",
    "company = company_name[:10:]\n",
    "company"
   ]
  },
  {
   "cell_type": "code",
   "execution_count": 82,
   "id": "30bb14e5",
   "metadata": {},
   "outputs": [
    {
     "data": {
      "text/plain": [
       "20"
      ]
     },
     "execution_count": 82,
     "metadata": {},
     "output_type": "execute_result"
    }
   ],
   "source": [
    "exp = driver.find_elements_by_xpath('//span[contains(@title,\"Yrs\")]')\n",
    "len(exp)"
   ]
  },
  {
   "cell_type": "code",
   "execution_count": 83,
   "id": "fed3dcf8",
   "metadata": {},
   "outputs": [],
   "source": [
    "experince=[]\n",
    "for i in exp:\n",
    "    experince.append(i.text)\n"
   ]
  },
  {
   "cell_type": "code",
   "execution_count": 84,
   "id": "484eb540",
   "metadata": {},
   "outputs": [
    {
     "data": {
      "text/plain": [
       "['1-6 Yrs',\n",
       " '4-6 Yrs',\n",
       " '5-9 Yrs',\n",
       " '0-2 Yrs',\n",
       " '8-12 Yrs',\n",
       " '1-3 Yrs',\n",
       " '3-5 Yrs',\n",
       " '3-8 Yrs',\n",
       " '7-12 Yrs',\n",
       " '3-7 Yrs']"
      ]
     },
     "execution_count": 84,
     "metadata": {},
     "output_type": "execute_result"
    }
   ],
   "source": [
    "exp = experince[:10:]\n",
    "exp"
   ]
  },
  {
   "cell_type": "code",
   "execution_count": 85,
   "id": "278db04a",
   "metadata": {},
   "outputs": [
    {
     "data": {
      "text/plain": [
       "20"
      ]
     },
     "execution_count": 85,
     "metadata": {},
     "output_type": "execute_result"
    }
   ],
   "source": [
    "loc = driver.find_elements_by_xpath('//li[@class=\"fleft grey-text br2 placeHolderLi location\"]')\n",
    "len(loc)"
   ]
  },
  {
   "cell_type": "code",
   "execution_count": 86,
   "id": "c0cf0145",
   "metadata": {},
   "outputs": [
    {
     "data": {
      "text/plain": [
       "['Bangalore/Bengaluru',\n",
       " 'Bangalore/Bengaluru',\n",
       " 'Bangalore/Bengaluru',\n",
       " 'Bangalore/Bengaluru',\n",
       " 'Bangalore/Bengaluru',\n",
       " 'Bangalore/Bengaluru',\n",
       " 'Bangalore/Bengaluru',\n",
       " 'Bangalore/Bengaluru',\n",
       " 'Bangalore/Bengaluru',\n",
       " 'Mumbai, Pune, Bangalore/Bengaluru']"
      ]
     },
     "execution_count": 86,
     "metadata": {},
     "output_type": "execute_result"
    }
   ],
   "source": [
    "location=[]\n",
    "for i in loc:\n",
    "    location.append(i.text)\n",
    "loc = location[:10:]\n",
    "loc"
   ]
  },
  {
   "cell_type": "code",
   "execution_count": 87,
   "id": "77b19731",
   "metadata": {},
   "outputs": [],
   "source": [
    "jobs = pd.DataFrame()\n",
    "jobs['Job Title']= jobtitle\n",
    "jobs['Location']= loc\n",
    "jobs['Company Name']= company\n",
    "jobs['Experince']= exp\n"
   ]
  },
  {
   "cell_type": "code",
   "execution_count": 88,
   "id": "e9acada7",
   "metadata": {},
   "outputs": [
    {
     "data": {
      "text/html": [
       "<div>\n",
       "<style scoped>\n",
       "    .dataframe tbody tr th:only-of-type {\n",
       "        vertical-align: middle;\n",
       "    }\n",
       "\n",
       "    .dataframe tbody tr th {\n",
       "        vertical-align: top;\n",
       "    }\n",
       "\n",
       "    .dataframe thead th {\n",
       "        text-align: right;\n",
       "    }\n",
       "</style>\n",
       "<table border=\"1\" class=\"dataframe\">\n",
       "  <thead>\n",
       "    <tr style=\"text-align: right;\">\n",
       "      <th></th>\n",
       "      <th>Job Title</th>\n",
       "      <th>Location</th>\n",
       "      <th>Company Name</th>\n",
       "      <th>Experince</th>\n",
       "    </tr>\n",
       "  </thead>\n",
       "  <tbody>\n",
       "    <tr>\n",
       "      <th>0</th>\n",
       "      <td>Hiring -Data Analyst, Business Analyst, MIS An...</td>\n",
       "      <td>Bangalore/Bengaluru</td>\n",
       "      <td>Flipkart</td>\n",
       "      <td>1-6 Yrs</td>\n",
       "    </tr>\n",
       "    <tr>\n",
       "      <th>1</th>\n",
       "      <td>Senior Data Analyst - Data Modeling/Database D...</td>\n",
       "      <td>Bangalore/Bengaluru</td>\n",
       "      <td>K &amp; R Enterprises</td>\n",
       "      <td>4-6 Yrs</td>\n",
       "    </tr>\n",
       "    <tr>\n",
       "      <th>2</th>\n",
       "      <td>Data analyst</td>\n",
       "      <td>Bangalore/Bengaluru</td>\n",
       "      <td>GSK India</td>\n",
       "      <td>5-9 Yrs</td>\n",
       "    </tr>\n",
       "    <tr>\n",
       "      <th>3</th>\n",
       "      <td>Data Analyst</td>\n",
       "      <td>Bangalore/Bengaluru</td>\n",
       "      <td>Aldius Consulting Services Pvt Ltd (Paramantra)</td>\n",
       "      <td>0-2 Yrs</td>\n",
       "    </tr>\n",
       "    <tr>\n",
       "      <th>4</th>\n",
       "      <td>Senior Data Analyst - Collibra</td>\n",
       "      <td>Bangalore/Bengaluru</td>\n",
       "      <td>Shell</td>\n",
       "      <td>8-12 Yrs</td>\n",
       "    </tr>\n",
       "    <tr>\n",
       "      <th>5</th>\n",
       "      <td>Consultant - Data Analyst</td>\n",
       "      <td>Bangalore/Bengaluru</td>\n",
       "      <td>Flipkart</td>\n",
       "      <td>1-3 Yrs</td>\n",
       "    </tr>\n",
       "    <tr>\n",
       "      <th>6</th>\n",
       "      <td>Data Analyst - Python/SQL</td>\n",
       "      <td>Bangalore/Bengaluru</td>\n",
       "      <td>Affine</td>\n",
       "      <td>3-5 Yrs</td>\n",
       "    </tr>\n",
       "    <tr>\n",
       "      <th>7</th>\n",
       "      <td>Data Analyst - IT</td>\n",
       "      <td>Bangalore/Bengaluru</td>\n",
       "      <td>Yespired</td>\n",
       "      <td>3-8 Yrs</td>\n",
       "    </tr>\n",
       "    <tr>\n",
       "      <th>8</th>\n",
       "      <td>Lead CLR Data Analyst</td>\n",
       "      <td>Bangalore/Bengaluru</td>\n",
       "      <td>Target</td>\n",
       "      <td>7-12 Yrs</td>\n",
       "    </tr>\n",
       "    <tr>\n",
       "      <th>9</th>\n",
       "      <td>Data Analyst</td>\n",
       "      <td>Mumbai, Pune, Bangalore/Bengaluru</td>\n",
       "      <td>National Entrepreneurship</td>\n",
       "      <td>3-7 Yrs</td>\n",
       "    </tr>\n",
       "  </tbody>\n",
       "</table>\n",
       "</div>"
      ],
      "text/plain": [
       "                                           Job Title  \\\n",
       "0  Hiring -Data Analyst, Business Analyst, MIS An...   \n",
       "1  Senior Data Analyst - Data Modeling/Database D...   \n",
       "2                                       Data analyst   \n",
       "3                                       Data Analyst   \n",
       "4                     Senior Data Analyst - Collibra   \n",
       "5                          Consultant - Data Analyst   \n",
       "6                          Data Analyst - Python/SQL   \n",
       "7                                  Data Analyst - IT   \n",
       "8                              Lead CLR Data Analyst   \n",
       "9                                       Data Analyst   \n",
       "\n",
       "                            Location  \\\n",
       "0                Bangalore/Bengaluru   \n",
       "1                Bangalore/Bengaluru   \n",
       "2                Bangalore/Bengaluru   \n",
       "3                Bangalore/Bengaluru   \n",
       "4                Bangalore/Bengaluru   \n",
       "5                Bangalore/Bengaluru   \n",
       "6                Bangalore/Bengaluru   \n",
       "7                Bangalore/Bengaluru   \n",
       "8                Bangalore/Bengaluru   \n",
       "9  Mumbai, Pune, Bangalore/Bengaluru   \n",
       "\n",
       "                                      Company Name Experince  \n",
       "0                                         Flipkart   1-6 Yrs  \n",
       "1                                K & R Enterprises   4-6 Yrs  \n",
       "2                                        GSK India   5-9 Yrs  \n",
       "3  Aldius Consulting Services Pvt Ltd (Paramantra)   0-2 Yrs  \n",
       "4                                            Shell  8-12 Yrs  \n",
       "5                                         Flipkart   1-3 Yrs  \n",
       "6                                           Affine   3-5 Yrs  \n",
       "7                                         Yespired   3-8 Yrs  \n",
       "8                                           Target  7-12 Yrs  \n",
       "9                        National Entrepreneurship   3-7 Yrs  "
      ]
     },
     "execution_count": 88,
     "metadata": {},
     "output_type": "execute_result"
    }
   ],
   "source": [
    "jobs"
   ]
  },
  {
   "cell_type": "raw",
   "id": "98099f44",
   "metadata": {},
   "source": [
    "Q2: Write a python program to scrape data for “Data Scientist” Job position in “Bangalore” location. You\n",
    "have to scrape the job-title, job-location, company_name. You have to scrape first 10 jobs data.\n",
    "This task will be done in following steps:\n",
    "1. First get the webpage https://www.naukri.com/\n",
    "2. Enter “Data Scientist” in “Skill, Designations, Companies” field and enter “Bangalore” in “enter the\n",
    "location” field.\n",
    "3. Then click the search button.\n",
    "4. Then scrape the data for the first 10 jobs results you get.\n",
    "5. Finally create a dataframe of the scraped data.\n",
    "Note: All of the above steps have to be done in code. No step is to be done manually."
   ]
  },
  {
   "cell_type": "code",
   "execution_count": 21,
   "id": "c1449bbb",
   "metadata": {},
   "outputs": [],
   "source": [
    "driver = webdriver.Chrome(r'C:\\Users\\welcome\\Desktop\\chromedriver_win32\\chromedriver.exe')"
   ]
  },
  {
   "cell_type": "code",
   "execution_count": 22,
   "id": "43ded540",
   "metadata": {},
   "outputs": [],
   "source": [
    "url = 'https://www.naukri.com/'\n",
    "driver.get(url)"
   ]
  },
  {
   "cell_type": "code",
   "execution_count": 23,
   "id": "bc495fa7",
   "metadata": {},
   "outputs": [
    {
     "data": {
      "text/plain": [
       "<selenium.webdriver.remote.webelement.WebElement (session=\"c465423038486607618682bbf05c94ad\", element=\"6ab1a0ee-aa2d-4645-b622-ec044fcff5f2\")>"
      ]
     },
     "execution_count": 23,
     "metadata": {},
     "output_type": "execute_result"
    }
   ],
   "source": [
    "search_job = driver.find_element_by_class_name(\"suggestor-input\")\n",
    "search_job\n"
   ]
  },
  {
   "cell_type": "code",
   "execution_count": 24,
   "id": "9aeb4ef9",
   "metadata": {},
   "outputs": [],
   "source": [
    "search_job.send_keys(\"Data Scientist\")"
   ]
  },
  {
   "cell_type": "code",
   "execution_count": 25,
   "id": "48787b7b",
   "metadata": {},
   "outputs": [],
   "source": [
    "search_loc = driver.find_element_by_xpath('/html/body/div/div[2]/div[3]/div/div/div[3]/div/div/div/input')"
   ]
  },
  {
   "cell_type": "code",
   "execution_count": 26,
   "id": "9fb4dd54",
   "metadata": {},
   "outputs": [],
   "source": [
    "search_loc.send_keys(\"Banglore\")"
   ]
  },
  {
   "cell_type": "code",
   "execution_count": 27,
   "id": "d56fff15",
   "metadata": {},
   "outputs": [],
   "source": [
    "search_button=driver.find_element_by_class_name(\"qsbSubmit\")"
   ]
  },
  {
   "cell_type": "code",
   "execution_count": 28,
   "id": "83baef56",
   "metadata": {},
   "outputs": [],
   "source": [
    "search_button.click()"
   ]
  },
  {
   "cell_type": "code",
   "execution_count": 29,
   "id": "b6885811",
   "metadata": {},
   "outputs": [
    {
     "data": {
      "text/plain": [
       "20"
      ]
     },
     "execution_count": 29,
     "metadata": {},
     "output_type": "execute_result"
    }
   ],
   "source": [
    "title_tag = driver.find_elements_by_xpath('//a[@class=\"title fw500 ellipsis\"]')\n",
    "len(title_tag)"
   ]
  },
  {
   "cell_type": "code",
   "execution_count": 30,
   "id": "1324dad1",
   "metadata": {},
   "outputs": [],
   "source": [
    "job_titles =[]\n",
    "\n",
    "for i in title_tag:\n",
    "    job_titles.append(i.text)"
   ]
  },
  {
   "cell_type": "code",
   "execution_count": 31,
   "id": "5672e7b0",
   "metadata": {},
   "outputs": [
    {
     "data": {
      "text/plain": [
       "['Global Tax Automation & Operations - Data Scientist Senior Analyst',\n",
       " 'Louis Dreyfus Company Looking For Data Scientist',\n",
       " 'Data Scientist: Artificial Intelligence',\n",
       " 'Data Scientist: Artificial Intelligence',\n",
       " 'Senior Data Scientist/Data Scientist',\n",
       " 'Senior Data Scientist - Research',\n",
       " 'Senior Data Scientist (Marketplace)',\n",
       " 'Senior Data Scientist',\n",
       " 'Data Scientist - Lead / Architect - Looking For Early Joiners - Wipro',\n",
       " 'Lead Data Scientist - Machine Learning/ Data Mining']"
      ]
     },
     "execution_count": 31,
     "metadata": {},
     "output_type": "execute_result"
    }
   ],
   "source": [
    "jobtitle = job_titles[:10:]\n",
    "jobtitle"
   ]
  },
  {
   "cell_type": "code",
   "execution_count": 32,
   "id": "9a40d652",
   "metadata": {},
   "outputs": [
    {
     "data": {
      "text/plain": [
       "20"
      ]
     },
     "execution_count": 32,
     "metadata": {},
     "output_type": "execute_result"
    }
   ],
   "source": [
    "company_tags = driver.find_elements_by_xpath('//a[@class=\"subTitle ellipsis fleft\"]')\n",
    "len(company_tags)"
   ]
  },
  {
   "cell_type": "code",
   "execution_count": 33,
   "id": "b60ccaac",
   "metadata": {},
   "outputs": [
    {
     "data": {
      "text/plain": [
       "['Dell',\n",
       " 'Louis Dreyfus Commodities',\n",
       " 'IBM',\n",
       " 'IBM',\n",
       " 'Tredence Analytics Solutions Private Limited',\n",
       " 'Gojek',\n",
       " 'Walmart',\n",
       " 'Walmart',\n",
       " 'Wipro',\n",
       " 'Wrackle Technologies Pvt Ltd']"
      ]
     },
     "execution_count": 33,
     "metadata": {},
     "output_type": "execute_result"
    }
   ],
   "source": [
    "company_name=[]\n",
    "for i in company_tags:\n",
    "    company_name.append(i.text)\n",
    "\n",
    "company = company_name[:10:]\n",
    "company"
   ]
  },
  {
   "cell_type": "code",
   "execution_count": 34,
   "id": "71f2a07b",
   "metadata": {},
   "outputs": [
    {
     "data": {
      "text/plain": [
       "20"
      ]
     },
     "execution_count": 34,
     "metadata": {},
     "output_type": "execute_result"
    }
   ],
   "source": [
    "exp = driver.find_elements_by_xpath('//span[contains(@title,\"Yrs\")]')\n",
    "len(exp)"
   ]
  },
  {
   "cell_type": "code",
   "execution_count": 35,
   "id": "fc06e35d",
   "metadata": {},
   "outputs": [],
   "source": [
    "experince=[]\n",
    "for i in exp:\n",
    "    experince.append(i.text)\n"
   ]
  },
  {
   "cell_type": "code",
   "execution_count": 36,
   "id": "a739e0f5",
   "metadata": {},
   "outputs": [
    {
     "data": {
      "text/plain": [
       "['3-5 Yrs',\n",
       " '0-2 Yrs',\n",
       " '12-15 Yrs',\n",
       " '12-15 Yrs',\n",
       " '2-7 Yrs',\n",
       " '5-11 Yrs',\n",
       " '4-8 Yrs',\n",
       " '5-9 Yrs',\n",
       " '5-10 Yrs',\n",
       " '6-11 Yrs']"
      ]
     },
     "execution_count": 36,
     "metadata": {},
     "output_type": "execute_result"
    }
   ],
   "source": [
    "exp = experince[:10:]\n",
    "exp"
   ]
  },
  {
   "cell_type": "code",
   "execution_count": 37,
   "id": "05bff811",
   "metadata": {},
   "outputs": [
    {
     "data": {
      "text/plain": [
       "20"
      ]
     },
     "execution_count": 37,
     "metadata": {},
     "output_type": "execute_result"
    }
   ],
   "source": [
    "loc = driver.find_elements_by_xpath('//li[@class=\"fleft grey-text br2 placeHolderLi location\"]')\n",
    "len(loc)"
   ]
  },
  {
   "cell_type": "code",
   "execution_count": 38,
   "id": "fea8d51f",
   "metadata": {},
   "outputs": [],
   "source": [
    "location=[]\n",
    "for i in loc:\n",
    "    location.append(i.text)\n",
    "loc = location[:10:]"
   ]
  },
  {
   "cell_type": "code",
   "execution_count": 39,
   "id": "aaf2c834",
   "metadata": {},
   "outputs": [
    {
     "data": {
      "text/plain": [
       "['Bangalore/Bengaluru',\n",
       " 'Bangalore/Bengaluru',\n",
       " 'Bangalore/Bengaluru',\n",
       " 'Bangalore/Bengaluru',\n",
       " 'Gurgaon/Gurugram, Chennai, Bangalore/Bengaluru',\n",
       " 'Bangalore/Bengaluru',\n",
       " 'Bangalore/Bengaluru',\n",
       " 'Bangalore/Bengaluru',\n",
       " 'Hyderabad/Secunderabad, Pune, Chennai, Bangalore/Bengaluru',\n",
       " 'Bangalore/Bengaluru']"
      ]
     },
     "execution_count": 39,
     "metadata": {},
     "output_type": "execute_result"
    }
   ],
   "source": [
    "loc"
   ]
  },
  {
   "cell_type": "code",
   "execution_count": 40,
   "id": "3edd2230",
   "metadata": {},
   "outputs": [],
   "source": [
    "jobs = pd.DataFrame()\n",
    "jobs['Job Title']= jobtitle\n",
    "jobs['Location']= loc\n",
    "jobs['Company Name']= company\n",
    "jobs['Experince']= exp\n"
   ]
  },
  {
   "cell_type": "code",
   "execution_count": 41,
   "id": "496d046d",
   "metadata": {},
   "outputs": [
    {
     "data": {
      "text/html": [
       "<div>\n",
       "<style scoped>\n",
       "    .dataframe tbody tr th:only-of-type {\n",
       "        vertical-align: middle;\n",
       "    }\n",
       "\n",
       "    .dataframe tbody tr th {\n",
       "        vertical-align: top;\n",
       "    }\n",
       "\n",
       "    .dataframe thead th {\n",
       "        text-align: right;\n",
       "    }\n",
       "</style>\n",
       "<table border=\"1\" class=\"dataframe\">\n",
       "  <thead>\n",
       "    <tr style=\"text-align: right;\">\n",
       "      <th></th>\n",
       "      <th>Job Title</th>\n",
       "      <th>Location</th>\n",
       "      <th>Company Name</th>\n",
       "      <th>Experince</th>\n",
       "    </tr>\n",
       "  </thead>\n",
       "  <tbody>\n",
       "    <tr>\n",
       "      <th>0</th>\n",
       "      <td>Global Tax Automation &amp; Operations - Data Scie...</td>\n",
       "      <td>Bangalore/Bengaluru</td>\n",
       "      <td>Dell</td>\n",
       "      <td>3-5 Yrs</td>\n",
       "    </tr>\n",
       "    <tr>\n",
       "      <th>1</th>\n",
       "      <td>Louis Dreyfus Company Looking For Data Scientist</td>\n",
       "      <td>Bangalore/Bengaluru</td>\n",
       "      <td>Louis Dreyfus Commodities</td>\n",
       "      <td>0-2 Yrs</td>\n",
       "    </tr>\n",
       "    <tr>\n",
       "      <th>2</th>\n",
       "      <td>Data Scientist: Artificial Intelligence</td>\n",
       "      <td>Bangalore/Bengaluru</td>\n",
       "      <td>IBM</td>\n",
       "      <td>12-15 Yrs</td>\n",
       "    </tr>\n",
       "    <tr>\n",
       "      <th>3</th>\n",
       "      <td>Data Scientist: Artificial Intelligence</td>\n",
       "      <td>Bangalore/Bengaluru</td>\n",
       "      <td>IBM</td>\n",
       "      <td>12-15 Yrs</td>\n",
       "    </tr>\n",
       "    <tr>\n",
       "      <th>4</th>\n",
       "      <td>Senior Data Scientist/Data Scientist</td>\n",
       "      <td>Gurgaon/Gurugram, Chennai, Bangalore/Bengaluru</td>\n",
       "      <td>Tredence Analytics Solutions Private Limited</td>\n",
       "      <td>2-7 Yrs</td>\n",
       "    </tr>\n",
       "    <tr>\n",
       "      <th>5</th>\n",
       "      <td>Senior Data Scientist - Research</td>\n",
       "      <td>Bangalore/Bengaluru</td>\n",
       "      <td>Gojek</td>\n",
       "      <td>5-11 Yrs</td>\n",
       "    </tr>\n",
       "    <tr>\n",
       "      <th>6</th>\n",
       "      <td>Senior Data Scientist (Marketplace)</td>\n",
       "      <td>Bangalore/Bengaluru</td>\n",
       "      <td>Walmart</td>\n",
       "      <td>4-8 Yrs</td>\n",
       "    </tr>\n",
       "    <tr>\n",
       "      <th>7</th>\n",
       "      <td>Senior Data Scientist</td>\n",
       "      <td>Bangalore/Bengaluru</td>\n",
       "      <td>Walmart</td>\n",
       "      <td>5-9 Yrs</td>\n",
       "    </tr>\n",
       "    <tr>\n",
       "      <th>8</th>\n",
       "      <td>Data Scientist - Lead / Architect - Looking Fo...</td>\n",
       "      <td>Hyderabad/Secunderabad, Pune, Chennai, Bangalo...</td>\n",
       "      <td>Wipro</td>\n",
       "      <td>5-10 Yrs</td>\n",
       "    </tr>\n",
       "    <tr>\n",
       "      <th>9</th>\n",
       "      <td>Lead Data Scientist - Machine Learning/ Data M...</td>\n",
       "      <td>Bangalore/Bengaluru</td>\n",
       "      <td>Wrackle Technologies Pvt Ltd</td>\n",
       "      <td>6-11 Yrs</td>\n",
       "    </tr>\n",
       "  </tbody>\n",
       "</table>\n",
       "</div>"
      ],
      "text/plain": [
       "                                           Job Title  \\\n",
       "0  Global Tax Automation & Operations - Data Scie...   \n",
       "1   Louis Dreyfus Company Looking For Data Scientist   \n",
       "2            Data Scientist: Artificial Intelligence   \n",
       "3            Data Scientist: Artificial Intelligence   \n",
       "4               Senior Data Scientist/Data Scientist   \n",
       "5                   Senior Data Scientist - Research   \n",
       "6                Senior Data Scientist (Marketplace)   \n",
       "7                              Senior Data Scientist   \n",
       "8  Data Scientist - Lead / Architect - Looking Fo...   \n",
       "9  Lead Data Scientist - Machine Learning/ Data M...   \n",
       "\n",
       "                                            Location  \\\n",
       "0                                Bangalore/Bengaluru   \n",
       "1                                Bangalore/Bengaluru   \n",
       "2                                Bangalore/Bengaluru   \n",
       "3                                Bangalore/Bengaluru   \n",
       "4     Gurgaon/Gurugram, Chennai, Bangalore/Bengaluru   \n",
       "5                                Bangalore/Bengaluru   \n",
       "6                                Bangalore/Bengaluru   \n",
       "7                                Bangalore/Bengaluru   \n",
       "8  Hyderabad/Secunderabad, Pune, Chennai, Bangalo...   \n",
       "9                                Bangalore/Bengaluru   \n",
       "\n",
       "                                   Company Name  Experince  \n",
       "0                                          Dell    3-5 Yrs  \n",
       "1                     Louis Dreyfus Commodities    0-2 Yrs  \n",
       "2                                           IBM  12-15 Yrs  \n",
       "3                                           IBM  12-15 Yrs  \n",
       "4  Tredence Analytics Solutions Private Limited    2-7 Yrs  \n",
       "5                                         Gojek   5-11 Yrs  \n",
       "6                                       Walmart    4-8 Yrs  \n",
       "7                                       Walmart    5-9 Yrs  \n",
       "8                                         Wipro   5-10 Yrs  \n",
       "9                  Wrackle Technologies Pvt Ltd   6-11 Yrs  "
      ]
     },
     "execution_count": 41,
     "metadata": {},
     "output_type": "execute_result"
    }
   ],
   "source": [
    "jobs"
   ]
  },
  {
   "cell_type": "raw",
   "id": "b4687a7f",
   "metadata": {},
   "source": [
    "Q3: In this question you have to scrape data using the filters available on the webpage as shown below:\n",
    "You have to use the location and salary filter.\n",
    "You have to scrape data for “Data Scientist” designation for first 10 job results.\n",
    "You have to scrape the job-title, job-location, company name, experience required.\n",
    "The location filter to be used is “Delhi/NCR”. The salary filter to be used is “3-6” lakhs\n",
    "The task will be done as shown in the below steps:\n",
    "1. first get the webpage https://www.naukri.com/\n",
    "2. Enter “Data Scientist” in “Skill, Designations, and Companies” field.\n",
    "3. Then click the search button.\n",
    "4. Then apply the location filter and salary filter by checking the respective boxes\n",
    "5. Then scrape the data for the first 10 jobs results you get.\n",
    "6. Finally create a dataframe of the scraped data."
   ]
  },
  {
   "cell_type": "code",
   "execution_count": 97,
   "id": "92205528",
   "metadata": {},
   "outputs": [],
   "source": [
    "driver = webdriver.Chrome(r'C:\\Users\\welcome\\Desktop\\chromedriver_win32\\chromedriver.exe')"
   ]
  },
  {
   "cell_type": "code",
   "execution_count": 98,
   "id": "dc53ed39",
   "metadata": {},
   "outputs": [],
   "source": [
    "url = 'https://www.naukri.com/'\n",
    "driver.get(url)"
   ]
  },
  {
   "cell_type": "code",
   "execution_count": 99,
   "id": "4d7f34af",
   "metadata": {},
   "outputs": [
    {
     "data": {
      "text/plain": [
       "<selenium.webdriver.remote.webelement.WebElement (session=\"cd524e15029dc541fac9fb7ace76479b\", element=\"9b321bb4-83a8-4ccc-880a-8be26c335782\")>"
      ]
     },
     "execution_count": 99,
     "metadata": {},
     "output_type": "execute_result"
    }
   ],
   "source": [
    "search_job = driver.find_element_by_class_name(\"suggestor-input\")\n",
    "search_job\n"
   ]
  },
  {
   "cell_type": "code",
   "execution_count": 100,
   "id": "ed12af6c",
   "metadata": {},
   "outputs": [],
   "source": [
    "search_job.send_keys(\"Data Scientist\")"
   ]
  },
  {
   "cell_type": "code",
   "execution_count": 101,
   "id": "6bce625a",
   "metadata": {},
   "outputs": [],
   "source": [
    "search_loc = driver.find_element_by_xpath('/html/body/div/div[2]/div[3]/div/div/div[3]/div/div/div/input')"
   ]
  },
  {
   "cell_type": "code",
   "execution_count": 102,
   "id": "78eb1d57",
   "metadata": {},
   "outputs": [],
   "source": [
    "search_loc.send_keys(\"Delhi/NCR\")"
   ]
  },
  {
   "cell_type": "code",
   "execution_count": 103,
   "id": "61974bfc",
   "metadata": {},
   "outputs": [],
   "source": [
    "search_button=driver.find_element_by_class_name(\"qsbSubmit\")"
   ]
  },
  {
   "cell_type": "code",
   "execution_count": 104,
   "id": "b1fecfd6",
   "metadata": {},
   "outputs": [],
   "source": [
    "search_button.click()"
   ]
  },
  {
   "cell_type": "code",
   "execution_count": 105,
   "id": "8dd3137b",
   "metadata": {},
   "outputs": [],
   "source": [
    "salary_filter = driver.find_element_by_xpath('/html/body/div[1]/div[3]/div[2]/section[1]/div[2]/div[4]/div[2]/div[2]/label/i')"
   ]
  },
  {
   "cell_type": "code",
   "execution_count": 106,
   "id": "854cd973",
   "metadata": {},
   "outputs": [],
   "source": [
    "salary_filter.click()"
   ]
  },
  {
   "cell_type": "code",
   "execution_count": 107,
   "id": "7266e3e9",
   "metadata": {},
   "outputs": [
    {
     "data": {
      "text/plain": [
       "20"
      ]
     },
     "execution_count": 107,
     "metadata": {},
     "output_type": "execute_result"
    }
   ],
   "source": [
    "title_tag = driver.find_elements_by_xpath('//a[@class=\"title fw500 ellipsis\"]')\n",
    "len(title_tag)"
   ]
  },
  {
   "cell_type": "code",
   "execution_count": 108,
   "id": "8125631d",
   "metadata": {},
   "outputs": [],
   "source": [
    "job_titles =[]\n",
    "\n",
    "for i in title_tag:\n",
    "    job_titles.append(i.text)"
   ]
  },
  {
   "cell_type": "code",
   "execution_count": 109,
   "id": "0a3b28fd",
   "metadata": {},
   "outputs": [
    {
     "data": {
      "text/plain": [
       "['Data Scientist | A Fintech Organisation',\n",
       " 'Data Scientist-Onsite and offshore',\n",
       " 'Data Scientist',\n",
       " 'Data Scientist',\n",
       " 'Data Scientist II',\n",
       " 'Opening For Data Scientist',\n",
       " 'Data & Applied Scientist',\n",
       " 'Data and applied Scientist',\n",
       " 'Data Scientist',\n",
       " 'Urgent Requirement || Data Scientist || Noida']"
      ]
     },
     "execution_count": 109,
     "metadata": {},
     "output_type": "execute_result"
    }
   ],
   "source": [
    "jobtitle = job_titles[:10:]\n",
    "jobtitle"
   ]
  },
  {
   "cell_type": "code",
   "execution_count": 110,
   "id": "cfa6f635",
   "metadata": {},
   "outputs": [
    {
     "data": {
      "text/plain": [
       "20"
      ]
     },
     "execution_count": 110,
     "metadata": {},
     "output_type": "execute_result"
    }
   ],
   "source": [
    "company_tags = driver.find_elements_by_xpath('//a[@class=\"subTitle ellipsis fleft\"]')\n",
    "len(company_tags)"
   ]
  },
  {
   "cell_type": "code",
   "execution_count": 111,
   "id": "f8857567",
   "metadata": {},
   "outputs": [
    {
     "data": {
      "text/plain": [
       "['Vision Beyond Resources India Private Limited',\n",
       " 'PROKXIMITY',\n",
       " 'CHANGE LEADERS CONSULTING',\n",
       " 'DECISION POINT PRIVATE LIMITED',\n",
       " 'Chegg',\n",
       " 'Care Health Insurance',\n",
       " 'Microsoft',\n",
       " 'Microsoft',\n",
       " 'Cloudstrats Technologies Private Limited',\n",
       " 'HCL']"
      ]
     },
     "execution_count": 111,
     "metadata": {},
     "output_type": "execute_result"
    }
   ],
   "source": [
    "company_name=[]\n",
    "for i in company_tags:\n",
    "    company_name.append(i.text)\n",
    "\n",
    "company = company_name[:10:]\n",
    "company"
   ]
  },
  {
   "cell_type": "code",
   "execution_count": 112,
   "id": "c5e8849a",
   "metadata": {},
   "outputs": [
    {
     "data": {
      "text/plain": [
       "20"
      ]
     },
     "execution_count": 112,
     "metadata": {},
     "output_type": "execute_result"
    }
   ],
   "source": [
    "exp = driver.find_elements_by_xpath('//span[contains(@title,\"Yrs\")]')\n",
    "len(exp)\n"
   ]
  },
  {
   "cell_type": "code",
   "execution_count": 113,
   "id": "35a46a2a",
   "metadata": {},
   "outputs": [
    {
     "data": {
      "text/plain": [
       "['2-7 Yrs',\n",
       " '3-8 Yrs',\n",
       " '3-8 Yrs',\n",
       " '1-6 Yrs',\n",
       " '2-6 Yrs',\n",
       " '1-5 Yrs',\n",
       " '3-7 Yrs',\n",
       " '3-7 Yrs',\n",
       " '3-5 Yrs',\n",
       " '3-8 Yrs']"
      ]
     },
     "execution_count": 113,
     "metadata": {},
     "output_type": "execute_result"
    }
   ],
   "source": [
    "experince=[]\n",
    "for i in exp:\n",
    "    experince.append(i.text)\n",
    "exp = experince[:10:]\n",
    "exp\n"
   ]
  },
  {
   "cell_type": "code",
   "execution_count": 114,
   "id": "8ff27da1",
   "metadata": {},
   "outputs": [
    {
     "data": {
      "text/plain": [
       "20"
      ]
     },
     "execution_count": 114,
     "metadata": {},
     "output_type": "execute_result"
    }
   ],
   "source": [
    "loc = driver.find_elements_by_xpath('//li[@class=\"fleft grey-text br2 placeHolderLi location\"]')\n",
    "len(loc)"
   ]
  },
  {
   "cell_type": "code",
   "execution_count": 115,
   "id": "3c9d5a37",
   "metadata": {},
   "outputs": [
    {
     "data": {
      "text/plain": [
       "['Gurgaon/Gurugram',\n",
       " 'Hyderabad/Secunderabad, Pune, Chennai, Bangalore/Bengaluru, Delhi / NCR, Mumbai (All Areas)',\n",
       " 'New Delhi',\n",
       " 'Gurgaon/Gurugram, Chennai\\n(WFH during Covid)',\n",
       " 'Delhi / NCR',\n",
       " 'Gurgaon/Gurugram',\n",
       " 'Noida, Hyderabad/Secunderabad, Bangalore/Bengaluru',\n",
       " 'Noida, Hyderabad/Secunderabad, Bangalore/Bengaluru',\n",
       " 'New Delhi, Delhi / NCR, Mumbai (All Areas)',\n",
       " 'Noida, Delhi / NCR']"
      ]
     },
     "execution_count": 115,
     "metadata": {},
     "output_type": "execute_result"
    }
   ],
   "source": [
    "location=[]\n",
    "for i in loc:\n",
    "    location.append(i.text)\n",
    "loc = location[:10:]\n",
    "loc"
   ]
  },
  {
   "cell_type": "code",
   "execution_count": 116,
   "id": "aa9170b1",
   "metadata": {},
   "outputs": [
    {
     "data": {
      "text/html": [
       "<div>\n",
       "<style scoped>\n",
       "    .dataframe tbody tr th:only-of-type {\n",
       "        vertical-align: middle;\n",
       "    }\n",
       "\n",
       "    .dataframe tbody tr th {\n",
       "        vertical-align: top;\n",
       "    }\n",
       "\n",
       "    .dataframe thead th {\n",
       "        text-align: right;\n",
       "    }\n",
       "</style>\n",
       "<table border=\"1\" class=\"dataframe\">\n",
       "  <thead>\n",
       "    <tr style=\"text-align: right;\">\n",
       "      <th></th>\n",
       "      <th>Job Title</th>\n",
       "      <th>Location</th>\n",
       "      <th>Company Name</th>\n",
       "      <th>Experince</th>\n",
       "    </tr>\n",
       "  </thead>\n",
       "  <tbody>\n",
       "    <tr>\n",
       "      <th>0</th>\n",
       "      <td>Data Scientist | A Fintech Organisation</td>\n",
       "      <td>Gurgaon/Gurugram</td>\n",
       "      <td>Vision Beyond Resources India Private Limited</td>\n",
       "      <td>2-7 Yrs</td>\n",
       "    </tr>\n",
       "    <tr>\n",
       "      <th>1</th>\n",
       "      <td>Data Scientist-Onsite and offshore</td>\n",
       "      <td>Hyderabad/Secunderabad, Pune, Chennai, Bangalo...</td>\n",
       "      <td>PROKXIMITY</td>\n",
       "      <td>3-8 Yrs</td>\n",
       "    </tr>\n",
       "    <tr>\n",
       "      <th>2</th>\n",
       "      <td>Data Scientist</td>\n",
       "      <td>New Delhi</td>\n",
       "      <td>CHANGE LEADERS CONSULTING</td>\n",
       "      <td>3-8 Yrs</td>\n",
       "    </tr>\n",
       "    <tr>\n",
       "      <th>3</th>\n",
       "      <td>Data Scientist</td>\n",
       "      <td>Gurgaon/Gurugram, Chennai\\n(WFH during Covid)</td>\n",
       "      <td>DECISION POINT PRIVATE LIMITED</td>\n",
       "      <td>1-6 Yrs</td>\n",
       "    </tr>\n",
       "    <tr>\n",
       "      <th>4</th>\n",
       "      <td>Data Scientist II</td>\n",
       "      <td>Delhi / NCR</td>\n",
       "      <td>Chegg</td>\n",
       "      <td>2-6 Yrs</td>\n",
       "    </tr>\n",
       "    <tr>\n",
       "      <th>5</th>\n",
       "      <td>Opening For Data Scientist</td>\n",
       "      <td>Gurgaon/Gurugram</td>\n",
       "      <td>Care Health Insurance</td>\n",
       "      <td>1-5 Yrs</td>\n",
       "    </tr>\n",
       "    <tr>\n",
       "      <th>6</th>\n",
       "      <td>Data &amp; Applied Scientist</td>\n",
       "      <td>Noida, Hyderabad/Secunderabad, Bangalore/Benga...</td>\n",
       "      <td>Microsoft</td>\n",
       "      <td>3-7 Yrs</td>\n",
       "    </tr>\n",
       "    <tr>\n",
       "      <th>7</th>\n",
       "      <td>Data and applied Scientist</td>\n",
       "      <td>Noida, Hyderabad/Secunderabad, Bangalore/Benga...</td>\n",
       "      <td>Microsoft</td>\n",
       "      <td>3-7 Yrs</td>\n",
       "    </tr>\n",
       "    <tr>\n",
       "      <th>8</th>\n",
       "      <td>Data Scientist</td>\n",
       "      <td>New Delhi, Delhi / NCR, Mumbai (All Areas)</td>\n",
       "      <td>Cloudstrats Technologies Private Limited</td>\n",
       "      <td>3-5 Yrs</td>\n",
       "    </tr>\n",
       "    <tr>\n",
       "      <th>9</th>\n",
       "      <td>Urgent Requirement || Data Scientist || Noida</td>\n",
       "      <td>Noida, Delhi / NCR</td>\n",
       "      <td>HCL</td>\n",
       "      <td>3-8 Yrs</td>\n",
       "    </tr>\n",
       "  </tbody>\n",
       "</table>\n",
       "</div>"
      ],
      "text/plain": [
       "                                       Job Title  \\\n",
       "0        Data Scientist | A Fintech Organisation   \n",
       "1             Data Scientist-Onsite and offshore   \n",
       "2                                 Data Scientist   \n",
       "3                                 Data Scientist   \n",
       "4                              Data Scientist II   \n",
       "5                     Opening For Data Scientist   \n",
       "6                       Data & Applied Scientist   \n",
       "7                     Data and applied Scientist   \n",
       "8                                 Data Scientist   \n",
       "9  Urgent Requirement || Data Scientist || Noida   \n",
       "\n",
       "                                            Location  \\\n",
       "0                                   Gurgaon/Gurugram   \n",
       "1  Hyderabad/Secunderabad, Pune, Chennai, Bangalo...   \n",
       "2                                          New Delhi   \n",
       "3      Gurgaon/Gurugram, Chennai\\n(WFH during Covid)   \n",
       "4                                        Delhi / NCR   \n",
       "5                                   Gurgaon/Gurugram   \n",
       "6  Noida, Hyderabad/Secunderabad, Bangalore/Benga...   \n",
       "7  Noida, Hyderabad/Secunderabad, Bangalore/Benga...   \n",
       "8         New Delhi, Delhi / NCR, Mumbai (All Areas)   \n",
       "9                                 Noida, Delhi / NCR   \n",
       "\n",
       "                                    Company Name Experince  \n",
       "0  Vision Beyond Resources India Private Limited   2-7 Yrs  \n",
       "1                                     PROKXIMITY   3-8 Yrs  \n",
       "2                      CHANGE LEADERS CONSULTING   3-8 Yrs  \n",
       "3                 DECISION POINT PRIVATE LIMITED   1-6 Yrs  \n",
       "4                                          Chegg   2-6 Yrs  \n",
       "5                          Care Health Insurance   1-5 Yrs  \n",
       "6                                      Microsoft   3-7 Yrs  \n",
       "7                                      Microsoft   3-7 Yrs  \n",
       "8       Cloudstrats Technologies Private Limited   3-5 Yrs  \n",
       "9                                            HCL   3-8 Yrs  "
      ]
     },
     "execution_count": 116,
     "metadata": {},
     "output_type": "execute_result"
    }
   ],
   "source": [
    "jobs = pd.DataFrame()\n",
    "jobs['Job Title']= jobtitle\n",
    "jobs['Location']= loc\n",
    "jobs['Company Name']= company\n",
    "jobs['Experince']= exp\n",
    "jobs"
   ]
  },
  {
   "cell_type": "raw",
   "id": "c2a61e14",
   "metadata": {},
   "source": [
    "Q4: Scrape data of first 100 sunglasses listings on flipkart.com. You have to scrape four attributes:\n",
    "1. Brand\n",
    "2. Product Description\n",
    "3. Price\n",
    "To scrape the data you have to go through following steps:\n",
    "1. Go to Flipkart webpage by url : https://www.flipkart.com/\n",
    "2. Enter “sunglasses” in the search field where “search for products, brands andmore” is written and\n",
    "click the search icon\n",
    "3. After that you will reach to the page having a lot of sunglasses. From this pageyou can scrap the\n",
    "required data as usual.\n",
    "4. After scraping data from the first page, go to the “Next” Button at the bottom ofthe page , then\n",
    "click on it.\n",
    "5. Now scrape data from this page as usual\n",
    "6. Repeat this until you get data for 100 sunglasses.\n",
    "Note: That all of the above steps have to be done by coding only and not manually."
   ]
  },
  {
   "cell_type": "code",
   "execution_count": 2,
   "id": "408de460",
   "metadata": {},
   "outputs": [],
   "source": [
    "driver = webdriver.Chrome(r'C:\\Users\\welcome\\Desktop\\chromedriver_win32\\chromedriver.exe')"
   ]
  },
  {
   "cell_type": "code",
   "execution_count": 3,
   "id": "8d7cbb41",
   "metadata": {},
   "outputs": [],
   "source": [
    "url = 'https://www.flipkart.com/'\n",
    "driver.get(url)"
   ]
  },
  {
   "cell_type": "code",
   "execution_count": 4,
   "id": "c10ac595",
   "metadata": {},
   "outputs": [
    {
     "data": {
      "text/plain": [
       "<selenium.webdriver.remote.webelement.WebElement (session=\"b3e221cec0a207d21d1427c108fffb35\", element=\"641ab363-669e-4cc1-b56f-8f579b177caa\")>"
      ]
     },
     "execution_count": 4,
     "metadata": {},
     "output_type": "execute_result"
    }
   ],
   "source": [
    "prod_search = driver.find_element_by_class_name(\"_3704LK\")\n",
    "prod_search"
   ]
  },
  {
   "cell_type": "code",
   "execution_count": 5,
   "id": "d8b6d7d2",
   "metadata": {},
   "outputs": [],
   "source": [
    "prod_search.send_keys(\"sunglasses\")"
   ]
  },
  {
   "cell_type": "code",
   "execution_count": 6,
   "id": "70a7ddfa",
   "metadata": {},
   "outputs": [
    {
     "data": {
      "text/plain": [
       "<selenium.webdriver.remote.webelement.WebElement (session=\"b3e221cec0a207d21d1427c108fffb35\", element=\"5252519f-d200-45ff-ae3a-10e042ff41e1\")>"
      ]
     },
     "execution_count": 6,
     "metadata": {},
     "output_type": "execute_result"
    }
   ],
   "source": [
    "search_button=driver.find_element_by_class_name(\"L0Z3Pu\")\n",
    "search_button"
   ]
  },
  {
   "cell_type": "code",
   "execution_count": 7,
   "id": "857bb547",
   "metadata": {},
   "outputs": [],
   "source": [
    "search_button.click()"
   ]
  },
  {
   "cell_type": "code",
   "execution_count": 8,
   "id": "a060364a",
   "metadata": {},
   "outputs": [
    {
     "data": {
      "text/plain": [
       "40"
      ]
     },
     "execution_count": 8,
     "metadata": {},
     "output_type": "execute_result"
    }
   ],
   "source": [
    "brand_nam_1 = driver.find_elements_by_xpath('//div[@class=\"_2WkVRV\"]')\n",
    "len(brand_nam_1)"
   ]
  },
  {
   "cell_type": "code",
   "execution_count": 9,
   "id": "f18268f1",
   "metadata": {},
   "outputs": [
    {
     "data": {
      "text/plain": [
       "['Fastrack',\n",
       " 'Elligator',\n",
       " 'SRPM',\n",
       " 'SUNBEE',\n",
       " 'SHAAH COLLECTIONS',\n",
       " 'New Specs',\n",
       " 'SHAAH COLLECTIONS',\n",
       " 'PIRASO',\n",
       " 'SUNBEE',\n",
       " 'kingsunglasses',\n",
       " 'ROZZETTA CRAFT',\n",
       " 'Fastrack',\n",
       " 'Johaena',\n",
       " 'PHENOMENAL',\n",
       " 'Elligator',\n",
       " 'PHENOMENAL',\n",
       " 'ROZZETTA CRAFT',\n",
       " 'PHENOMENAL',\n",
       " 'Elligator',\n",
       " 'SUNBEE',\n",
       " 'agera',\n",
       " 'PIRASO',\n",
       " 'maxa',\n",
       " 'GANSTA',\n",
       " 'Elligator',\n",
       " 'Lee Topper',\n",
       " 'New Specs',\n",
       " 'kingsunglasses',\n",
       " 'GANSTA',\n",
       " 'Rich Club',\n",
       " 'PIRASO',\n",
       " 'Elligator',\n",
       " 'Fastrack',\n",
       " 'Elligator',\n",
       " 'PIRASO',\n",
       " 'Fastrack',\n",
       " 'PHENOMENAL',\n",
       " 'Rich Club',\n",
       " 'Johaena',\n",
       " 'SRPM']"
      ]
     },
     "execution_count": 9,
     "metadata": {},
     "output_type": "execute_result"
    }
   ],
   "source": [
    "brand_1=[]\n",
    "for i in brand_nam_1:\n",
    "    brand_1.append(i.text)\n",
    "brand_1"
   ]
  },
  {
   "cell_type": "code",
   "execution_count": 10,
   "id": "b3ba573d",
   "metadata": {},
   "outputs": [
    {
     "data": {
      "text/plain": [
       "40"
      ]
     },
     "execution_count": 10,
     "metadata": {},
     "output_type": "execute_result"
    }
   ],
   "source": [
    "des_1 = driver.find_elements_by_xpath('//a[@class=\"IRpwTa\"]')\n",
    "len(des_1)"
   ]
  },
  {
   "cell_type": "code",
   "execution_count": 11,
   "id": "8f7d5488",
   "metadata": {},
   "outputs": [
    {
     "data": {
      "text/plain": [
       "['UV Protection Wayfarer Sunglasses (Free Size)',\n",
       " 'UV Protection Round Sunglasses (54)',\n",
       " 'UV Protection Wayfarer Sunglasses (50)',\n",
       " 'UV Protection, Polarized Wayfarer Sunglasses (Free Size...',\n",
       " 'UV Protection, Polarized, Mirrored Rectangular Sunglass...',\n",
       " 'UV Protection Rectangular Sunglasses (Free Size)',\n",
       " 'UV Protection, Polarized, Mirrored Rectangular Sunglass...',\n",
       " 'UV Protection Aviator Sunglasses (54)',\n",
       " 'UV Protection, Polarized, Mirrored Round Sunglasses (Fr...',\n",
       " 'UV Protection Round Sunglasses (54)',\n",
       " 'Polarized, Night Vision, Riding Glasses Sports, Wrap-ar...',\n",
       " 'UV Protection Rectangular Sunglasses (Free Size)',\n",
       " 'Riding Glasses, UV Protection Oval Sunglasses (48)',\n",
       " 'UV Protection Retro Square Sunglasses (Free Size)',\n",
       " 'UV Protection Round Sunglasses (54)',\n",
       " 'UV Protection Retro Square Sunglasses (53)',\n",
       " 'UV Protection, Gradient Rectangular Sunglasses (Free Si...',\n",
       " 'UV Protection, Mirrored Retro Square Sunglasses (53)',\n",
       " 'UV Protection Round Sunglasses (53)',\n",
       " 'UV Protection, Polarized, Mirrored Retro Square Sunglas...',\n",
       " 'Gradient Aviator Sunglasses (55)',\n",
       " 'UV Protection Aviator Sunglasses (54)',\n",
       " 'UV Protection, Riding Glasses Rectangular, Wayfarer, Ov...',\n",
       " 'UV Protection, Riding Glasses Wayfarer Sunglasses (53)',\n",
       " 'UV Protection Round Sunglasses (50)',\n",
       " 'UV Protection Rectangular Sunglasses (Free Size)',\n",
       " 'Mirrored, UV Protection, Riding Glasses, Others Round S...',\n",
       " 'UV Protection Rectangular Sunglasses (Free Size)',\n",
       " 'UV Protection Aviator Sunglasses (57)',\n",
       " 'Polarized Round Sunglasses (48)',\n",
       " 'UV Protection Aviator Sunglasses (54)',\n",
       " 'UV Protection Wayfarer Sunglasses (53)',\n",
       " 'Gradient, UV Protection Wayfarer Sunglasses (Free Size)',\n",
       " 'UV Protection Retro Square, Round Sunglasses (54)',\n",
       " 'UV Protection Aviator Sunglasses (Free Size)',\n",
       " 'UV Protection Wayfarer Sunglasses (55)',\n",
       " 'UV Protection Clubmaster Sunglasses (Free Size)',\n",
       " 'UV Protection Round Sunglasses (48)',\n",
       " 'Riding Glasses, UV Protection Oval Sunglasses (52)',\n",
       " 'UV Protection Wayfarer Sunglasses (53)']"
      ]
     },
     "execution_count": 11,
     "metadata": {},
     "output_type": "execute_result"
    }
   ],
   "source": [
    "descrip_1=[]\n",
    "for i in des_1:\n",
    "    descrip_1.append(i.text)\n",
    "descrip_1"
   ]
  },
  {
   "cell_type": "code",
   "execution_count": 12,
   "id": "ceaa671d",
   "metadata": {},
   "outputs": [
    {
     "data": {
      "text/plain": [
       "40"
      ]
     },
     "execution_count": 12,
     "metadata": {},
     "output_type": "execute_result"
    }
   ],
   "source": [
    "prc_1 = driver.find_elements_by_xpath('//div[@class=\"_30jeq3\"]')\n",
    "len(prc_1)"
   ]
  },
  {
   "cell_type": "code",
   "execution_count": 13,
   "id": "4ceaca90",
   "metadata": {},
   "outputs": [
    {
     "data": {
      "text/plain": [
       "['721',\n",
       " '248',\n",
       " '188',\n",
       " '243',\n",
       " '165',\n",
       " '234',\n",
       " '181',\n",
       " '229',\n",
       " '271',\n",
       " '178',\n",
       " '499',\n",
       " '607',\n",
       " '146',\n",
       " '309',\n",
       " '265',\n",
       " '269',\n",
       " '399',\n",
       " '299',\n",
       " '189',\n",
       " '235',\n",
       " '196',\n",
       " '200',\n",
       " '144',\n",
       " '209',\n",
       " '230',\n",
       " '199',\n",
       " '259',\n",
       " '180',\n",
       " '269',\n",
       " '165',\n",
       " '200',\n",
       " '167',\n",
       " '626',\n",
       " '291',\n",
       " '349',\n",
       " '718',\n",
       " '289',\n",
       " '220',\n",
       " '156',\n",
       " '207']"
      ]
     },
     "execution_count": 13,
     "metadata": {},
     "output_type": "execute_result"
    }
   ],
   "source": [
    "price_1=[]\n",
    "for i in prc_1:\n",
    "    price_1.append(i.text.replace('₹',''))\n",
    "price_1"
   ]
  },
  {
   "cell_type": "code",
   "execution_count": 14,
   "id": "10386df8",
   "metadata": {},
   "outputs": [
    {
     "data": {
      "text/plain": [
       "<selenium.webdriver.remote.webelement.WebElement (session=\"b3e221cec0a207d21d1427c108fffb35\", element=\"31628a82-da19-4948-a1e0-449e3f36dbec\")>"
      ]
     },
     "execution_count": 14,
     "metadata": {},
     "output_type": "execute_result"
    }
   ],
   "source": [
    "nxt_button=driver.find_element_by_class_name(\"_1LKTO3\")\n",
    "nxt_button"
   ]
  },
  {
   "cell_type": "code",
   "execution_count": 15,
   "id": "52d7edb9",
   "metadata": {},
   "outputs": [],
   "source": [
    "nxt_button.click()"
   ]
  },
  {
   "cell_type": "code",
   "execution_count": 16,
   "id": "a058184a",
   "metadata": {},
   "outputs": [
    {
     "data": {
      "text/plain": [
       "['SRPM',\n",
       " 'PHENOMENAL',\n",
       " 'Lee Topper',\n",
       " 'DEIXELS',\n",
       " 'PHENOMENAL',\n",
       " 'kingsunglasses',\n",
       " 'New Specs',\n",
       " 'Singco India',\n",
       " 'ROYAL SON',\n",
       " 'PIRASO',\n",
       " 'kingsunglasses',\n",
       " 'Elligator',\n",
       " 'ROZZETTA CRAFT',\n",
       " 'hipe',\n",
       " 'SRPM',\n",
       " 'kingsunglasses',\n",
       " 'Fastrack',\n",
       " 'ROYAL SON',\n",
       " 'PIRASO',\n",
       " 'Fastrack',\n",
       " 'New Specs',\n",
       " 'PHENOMENAL',\n",
       " 'Fastrack',\n",
       " 'SHAAH COLLECTIONS',\n",
       " 'Badfella',\n",
       " 'Fastrack',\n",
       " 'ROYAL SON',\n",
       " 'kingsunglasses',\n",
       " 'ROZZETTA CRAFT',\n",
       " 'Singco India',\n",
       " 'Silver Kartz',\n",
       " 'Fastrack',\n",
       " 'Lee Topper',\n",
       " 'Mi',\n",
       " 'kingsunglasses',\n",
       " 'Rich Club',\n",
       " 'kingsunglasses',\n",
       " 'ROZZETTA CRAFT',\n",
       " 'DEIXELS',\n",
       " 'Silver Kartz']"
      ]
     },
     "execution_count": 16,
     "metadata": {},
     "output_type": "execute_result"
    }
   ],
   "source": [
    "brand_nam_2 = driver.find_elements_by_xpath('//div[@class=\"_2WkVRV\"]')\n",
    "brand_2=[]\n",
    "for i in brand_nam_2:\n",
    "    brand_2.append(i.text)\n",
    "brand_2"
   ]
  },
  {
   "cell_type": "code",
   "execution_count": 17,
   "id": "c1c90295",
   "metadata": {},
   "outputs": [
    {
     "data": {
      "text/plain": [
       "['UV Protection Wayfarer Sunglasses (53)',\n",
       " 'UV Protection, Mirrored Retro Square Sunglasses (53)',\n",
       " 'Riding Glasses, Night Vision Wrap-around Sunglasses (Fr...',\n",
       " 'UV Protection Aviator, Wayfarer Sunglasses (Free Size)',\n",
       " 'UV Protection Clubmaster Sunglasses (Free Size)',\n",
       " 'UV Protection, Others Round, Aviator Sunglasses (54)',\n",
       " 'UV Protection Round Sunglasses (Free Size)',\n",
       " 'UV Protection, Riding Glasses, Others Aviator, Wayfarer...',\n",
       " 'Mirrored Aviator Sunglasses (55)',\n",
       " 'UV Protection Aviator Sunglasses (58)',\n",
       " 'Mirrored, UV Protection Wayfarer Sunglasses (Free Size)',\n",
       " 'UV Protection, Gradient Aviator Sunglasses (50)',\n",
       " 'UV Protection Retro Square Sunglasses (Free Size)',\n",
       " 'Mirrored, UV Protection, Gradient Round Sunglasses (55)',\n",
       " 'Night Vision, UV Protection Round Sunglasses (54)',\n",
       " 'UV Protection, Night Vision Wayfarer Sunglasses (Free S...',\n",
       " 'UV Protection Wayfarer Sunglasses (Free Size)',\n",
       " 'UV Protection, Gradient Butterfly Sunglasses (57)',\n",
       " 'UV Protection Butterfly Sunglasses (65)',\n",
       " 'Polarized Retro Square Sunglasses (Free Size)',\n",
       " 'UV Protection Rectangular Sunglasses (Free Size)',\n",
       " 'UV Protection, Mirrored Clubmaster Sunglasses (Free Siz...',\n",
       " 'UV Protection Wayfarer Sunglasses (Free Size)',\n",
       " 'UV Protection Round Sunglasses (Free Size)',\n",
       " 'Polarized, UV Protection Retro Square Sunglasses (53)',\n",
       " 'UV Protection Aviator Sunglasses (Free Size)',\n",
       " 'UV Protection Retro Square Sunglasses (58)',\n",
       " 'UV Protection Round Sunglasses (Free Size)',\n",
       " 'UV Protection Aviator Sunglasses (62)',\n",
       " 'Gradient, Toughened Glass Lens, UV Protection Retro Squ...',\n",
       " 'UV Protection Oval Sunglasses (56)',\n",
       " 'UV Protection Aviator Sunglasses (Free Size)',\n",
       " 'UV Protection, Riding Glasses Retro Square, Spectacle ...',\n",
       " 'Polarized Aviator Sunglasses (Free Size)',\n",
       " 'UV Protection, Riding Glasses, Mirrored Wayfarer Sungla...',\n",
       " 'Polarized Round Sunglasses (48)',\n",
       " 'Mirrored, UV Protection Aviator Sunglasses (56)',\n",
       " 'UV Protection, Gradient Round Sunglasses (Free Size)',\n",
       " 'UV Protection Wayfarer Sunglasses (Free Size)',\n",
       " 'UV Protection Aviator Sunglasses (88)']"
      ]
     },
     "execution_count": 17,
     "metadata": {},
     "output_type": "execute_result"
    }
   ],
   "source": [
    "des_2 = driver.find_elements_by_xpath('//a[@class=\"IRpwTa\"]')\n",
    "descrip_2=[]\n",
    "for i in des_2:\n",
    "    descrip_2.append(i.text)\n",
    "descrip_2"
   ]
  },
  {
   "cell_type": "code",
   "execution_count": 18,
   "id": "6ad62dc0",
   "metadata": {},
   "outputs": [
    {
     "data": {
      "text/plain": [
       "['207',\n",
       " '299',\n",
       " '276',\n",
       " '202',\n",
       " '289',\n",
       " '174',\n",
       " '232',\n",
       " '229',\n",
       " '359',\n",
       " '299',\n",
       " '229',\n",
       " '263',\n",
       " '499',\n",
       " '189',\n",
       " '199',\n",
       " '249',\n",
       " '607',\n",
       " '664',\n",
       " '349',\n",
       " '607',\n",
       " '157',\n",
       " '289',\n",
       " '692',\n",
       " '267',\n",
       " '199',\n",
       " '639',\n",
       " '449',\n",
       " '274',\n",
       " '649',\n",
       " '664',\n",
       " '284',\n",
       " '769',\n",
       " '375',\n",
       " '1,139',\n",
       " '177',\n",
       " '152',\n",
       " '209',\n",
       " '360',\n",
       " '199',\n",
       " '255']"
      ]
     },
     "execution_count": 18,
     "metadata": {},
     "output_type": "execute_result"
    }
   ],
   "source": [
    "prc_2 = driver.find_elements_by_xpath('//div[@class=\"_30jeq3\"]')\n",
    "price_2=[]\n",
    "for i in prc_2:\n",
    "    price_2.append(i.text.replace('₹',''))\n",
    "price_2"
   ]
  },
  {
   "cell_type": "code",
   "execution_count": 23,
   "id": "44ced186",
   "metadata": {},
   "outputs": [
    {
     "data": {
      "text/plain": [
       "<selenium.webdriver.remote.webelement.WebElement (session=\"b3e221cec0a207d21d1427c108fffb35\", element=\"2a8c4334-a759-4ec6-a28e-b92af6d3e601\")>"
      ]
     },
     "execution_count": 23,
     "metadata": {},
     "output_type": "execute_result"
    }
   ],
   "source": [
    "nxt_button_2=driver.find_element_by_xpath(\"/html/body/div/div/div[3]/div[1]/div[2]/div[12]/div/div/nav/a[4]\")\n",
    "nxt_button_2"
   ]
  },
  {
   "cell_type": "code",
   "execution_count": 24,
   "id": "ac0bb05d",
   "metadata": {},
   "outputs": [],
   "source": [
    "nxt_button.click()"
   ]
  },
  {
   "cell_type": "code",
   "execution_count": 43,
   "id": "08abc77f",
   "metadata": {},
   "outputs": [
    {
     "data": {
      "text/plain": [
       "['PIRASO',\n",
       " 'Rich Club',\n",
       " 'Mi',\n",
       " 'Fastrack',\n",
       " 'ROZZETTA CRAFT',\n",
       " 'Fastrack',\n",
       " 'GANSTA',\n",
       " 'Singco India',\n",
       " 'kingsunglasses',\n",
       " 'PHENOMENAL',\n",
       " 'Silver Kartz',\n",
       " 'PHENOMENAL',\n",
       " 'ROZZETTA CRAFT',\n",
       " 'style guru',\n",
       " 'IDEE',\n",
       " 'Elligator',\n",
       " 'Mi',\n",
       " 'ROZZETTA CRAFT',\n",
       " 'PIRASO',\n",
       " 'GANSTA',\n",
       " 'WROGN',\n",
       " 'Lee Topper',\n",
       " 'kingsunglasses',\n",
       " 'Fastrack',\n",
       " 'GANSTA',\n",
       " 'IDEE',\n",
       " 'Rich Club',\n",
       " 'IDEE',\n",
       " 'PIRASO',\n",
       " 'elegante',\n",
       " 'kingsunglasses',\n",
       " 'Rich Club',\n",
       " 'IDEE',\n",
       " 'PIRASO',\n",
       " 'PIRASO',\n",
       " 'PIRASO',\n",
       " 'Fastrack',\n",
       " 'Lee Topper',\n",
       " 'Fravy',\n",
       " 'Fastrack']"
      ]
     },
     "execution_count": 43,
     "metadata": {},
     "output_type": "execute_result"
    }
   ],
   "source": [
    "brand_nam_3 = driver.find_elements_by_xpath('//div[@class=\"_2WkVRV\"]')\n",
    "brand_3=[]\n",
    "for i in brand_nam_3:\n",
    "    brand_3.append(i.text)\n",
    "brand_3"
   ]
  },
  {
   "cell_type": "code",
   "execution_count": 44,
   "id": "24e8e67e",
   "metadata": {},
   "outputs": [
    {
     "data": {
      "text/plain": [
       "['UV Protection Aviator Sunglasses (55)',\n",
       " 'Polarized Round Sunglasses (49)',\n",
       " 'Polarized Wayfarer Sunglasses (Free Size)',\n",
       " 'UV Protection Round Sunglasses (52)',\n",
       " 'UV Protection, Riding Glasses Rectangular Sunglasses (F...',\n",
       " 'UV Protection Wayfarer Sunglasses (Free Size)',\n",
       " 'UV Protection, Gradient Wayfarer Sunglasses (53)',\n",
       " 'UV Protection Aviator Sunglasses (Free Size)',\n",
       " 'UV Protection, Mirrored Round Sunglasses (Free Size)',\n",
       " 'UV Protection, Mirrored Retro Square Sunglasses (53)',\n",
       " 'UV Protection Wayfarer Sunglasses (Free Size)',\n",
       " 'UV Protection Round Sunglasses (53)',\n",
       " 'UV Protection, Gradient Retro Square Sunglasses (Free S...',\n",
       " 'UV Protection Retro Square Sunglasses (Free Size)',\n",
       " 'UV Protection Wayfarer Sunglasses (50)',\n",
       " 'UV Protection, Riding Glasses Rectangular, Retro Square...',\n",
       " 'Polarized Aviator Sunglasses (Free Size)',\n",
       " 'UV Protection Round Sunglasses (Free Size)',\n",
       " 'UV Protection Butterfly Sunglasses (60)',\n",
       " 'UV Protection, Gradient Aviator Sunglasses (57)',\n",
       " 'UV Protection Aviator Sunglasses (59)',\n",
       " 'UV Protection Cat-eye Sunglasses (Free Size)',\n",
       " 'UV Protection Round Sunglasses (Free Size)',\n",
       " 'UV Protection Wayfarer Sunglasses (55)',\n",
       " 'UV Protection, Mirrored Wayfarer Sunglasses (53)',\n",
       " 'UV Protection Cat-eye Sunglasses (17)',\n",
       " 'UV Protection, Others Round Sunglasses (48)',\n",
       " 'Mirrored, UV Protection Wayfarer Sunglasses (18)',\n",
       " 'UV Protection Aviator Sunglasses (58)',\n",
       " 'UV Protection Wayfarer Sunglasses (Free Size)',\n",
       " 'UV Protection, Mirrored Aviator Sunglasses (Free Size)',\n",
       " 'UV Protection, Polarized Oval Sunglasses (48)',\n",
       " 'Mirrored, UV Protection Aviator Sunglasses (18)',\n",
       " 'UV Protection Aviator Sunglasses (Free Size)',\n",
       " 'UV Protection Aviator Sunglasses (54)',\n",
       " 'UV Protection Aviator Sunglasses (50)',\n",
       " 'UV Protection Aviator Sunglasses (Free Size)',\n",
       " 'UV Protection Round Sunglasses (Free Size)',\n",
       " 'UV Protection, Gradient, Night Vision Retro Square Sung...',\n",
       " 'UV Protection Wayfarer Sunglasses (55)']"
      ]
     },
     "execution_count": 44,
     "metadata": {},
     "output_type": "execute_result"
    }
   ],
   "source": [
    "des_3 = driver.find_elements_by_xpath('//a[@class=\"IRpwTa\"]')\n",
    "descrip_3=[]\n",
    "for i in des_3:\n",
    "    descrip_3.append(i.text)\n",
    "descrip_3"
   ]
  },
  {
   "cell_type": "code",
   "execution_count": 45,
   "id": "b672d794",
   "metadata": {},
   "outputs": [
    {
     "data": {
      "text/plain": [
       "['250',\n",
       " '175',\n",
       " '949',\n",
       " '607',\n",
       " '449',\n",
       " '489',\n",
       " '314',\n",
       " '334',\n",
       " '229',\n",
       " '299',\n",
       " '246',\n",
       " '249',\n",
       " '349',\n",
       " '309',\n",
       " '996',\n",
       " '305',\n",
       " '1,199',\n",
       " '449',\n",
       " '349',\n",
       " '224',\n",
       " '719',\n",
       " '281',\n",
       " '279',\n",
       " '711',\n",
       " '199',\n",
       " '1,249',\n",
       " '220',\n",
       " '1,139',\n",
       " '299',\n",
       " '399',\n",
       " '235',\n",
       " '175',\n",
       " '1,339',\n",
       " '299',\n",
       " '200',\n",
       " '299',\n",
       " '569',\n",
       " '299',\n",
       " '245',\n",
       " '623']"
      ]
     },
     "execution_count": 45,
     "metadata": {},
     "output_type": "execute_result"
    }
   ],
   "source": [
    "prc_3 = driver.find_elements_by_xpath('//div[@class=\"_30jeq3\"]')\n",
    "price_3=[]\n",
    "for i in prc_3:\n",
    "    price_3.append(i.text.replace('₹',''))\n",
    "price_3"
   ]
  },
  {
   "cell_type": "code",
   "execution_count": 46,
   "id": "00a604d1",
   "metadata": {},
   "outputs": [
    {
     "data": {
      "text/plain": [
       "['Fastrack',\n",
       " 'Elligator',\n",
       " 'SRPM',\n",
       " 'SUNBEE',\n",
       " 'SHAAH COLLECTIONS',\n",
       " 'New Specs',\n",
       " 'SHAAH COLLECTIONS',\n",
       " 'PIRASO',\n",
       " 'SUNBEE',\n",
       " 'kingsunglasses',\n",
       " 'ROZZETTA CRAFT',\n",
       " 'Fastrack',\n",
       " 'Johaena',\n",
       " 'PHENOMENAL',\n",
       " 'Elligator',\n",
       " 'PHENOMENAL',\n",
       " 'ROZZETTA CRAFT',\n",
       " 'PHENOMENAL',\n",
       " 'Elligator',\n",
       " 'SUNBEE',\n",
       " 'agera',\n",
       " 'PIRASO',\n",
       " 'maxa',\n",
       " 'GANSTA',\n",
       " 'Elligator',\n",
       " 'Lee Topper',\n",
       " 'New Specs',\n",
       " 'kingsunglasses',\n",
       " 'GANSTA',\n",
       " 'Rich Club',\n",
       " 'PIRASO',\n",
       " 'Elligator',\n",
       " 'Fastrack',\n",
       " 'Elligator',\n",
       " 'PIRASO',\n",
       " 'Fastrack',\n",
       " 'PHENOMENAL',\n",
       " 'Rich Club',\n",
       " 'Johaena',\n",
       " 'SRPM',\n",
       " 'SRPM',\n",
       " 'PHENOMENAL',\n",
       " 'Lee Topper',\n",
       " 'DEIXELS',\n",
       " 'PHENOMENAL',\n",
       " 'kingsunglasses',\n",
       " 'New Specs',\n",
       " 'Singco India',\n",
       " 'ROYAL SON',\n",
       " 'PIRASO',\n",
       " 'kingsunglasses',\n",
       " 'Elligator',\n",
       " 'ROZZETTA CRAFT',\n",
       " 'hipe',\n",
       " 'SRPM',\n",
       " 'kingsunglasses',\n",
       " 'Fastrack',\n",
       " 'ROYAL SON',\n",
       " 'PIRASO',\n",
       " 'Fastrack',\n",
       " 'New Specs',\n",
       " 'PHENOMENAL',\n",
       " 'Fastrack',\n",
       " 'SHAAH COLLECTIONS',\n",
       " 'Badfella',\n",
       " 'Fastrack',\n",
       " 'ROYAL SON',\n",
       " 'kingsunglasses',\n",
       " 'ROZZETTA CRAFT',\n",
       " 'Singco India',\n",
       " 'Silver Kartz',\n",
       " 'Fastrack',\n",
       " 'Lee Topper',\n",
       " 'Mi',\n",
       " 'kingsunglasses',\n",
       " 'Rich Club',\n",
       " 'kingsunglasses',\n",
       " 'ROZZETTA CRAFT',\n",
       " 'DEIXELS',\n",
       " 'Silver Kartz',\n",
       " 'PIRASO',\n",
       " 'Rich Club',\n",
       " 'Mi',\n",
       " 'Fastrack',\n",
       " 'ROZZETTA CRAFT',\n",
       " 'Fastrack',\n",
       " 'GANSTA',\n",
       " 'Singco India',\n",
       " 'kingsunglasses',\n",
       " 'PHENOMENAL',\n",
       " 'Silver Kartz',\n",
       " 'PHENOMENAL',\n",
       " 'ROZZETTA CRAFT',\n",
       " 'style guru',\n",
       " 'IDEE',\n",
       " 'Elligator',\n",
       " 'Mi',\n",
       " 'ROZZETTA CRAFT',\n",
       " 'PIRASO',\n",
       " 'GANSTA']"
      ]
     },
     "execution_count": 46,
     "metadata": {},
     "output_type": "execute_result"
    }
   ],
   "source": [
    "brand = brand_1+brand_2+brand_3\n",
    "brand = brand[:100:]\n",
    "brand"
   ]
  },
  {
   "cell_type": "code",
   "execution_count": 47,
   "id": "83b07781",
   "metadata": {},
   "outputs": [
    {
     "data": {
      "text/plain": [
       "100"
      ]
     },
     "execution_count": 47,
     "metadata": {},
     "output_type": "execute_result"
    }
   ],
   "source": [
    "len(brand)"
   ]
  },
  {
   "cell_type": "code",
   "execution_count": 48,
   "id": "b3e8859a",
   "metadata": {},
   "outputs": [
    {
     "data": {
      "text/plain": [
       "['UV Protection Wayfarer Sunglasses (Free Size)',\n",
       " 'UV Protection Round Sunglasses (54)',\n",
       " 'UV Protection Wayfarer Sunglasses (50)',\n",
       " 'UV Protection, Polarized Wayfarer Sunglasses (Free Size...',\n",
       " 'UV Protection, Polarized, Mirrored Rectangular Sunglass...',\n",
       " 'UV Protection Rectangular Sunglasses (Free Size)',\n",
       " 'UV Protection, Polarized, Mirrored Rectangular Sunglass...',\n",
       " 'UV Protection Aviator Sunglasses (54)',\n",
       " 'UV Protection, Polarized, Mirrored Round Sunglasses (Fr...',\n",
       " 'UV Protection Round Sunglasses (54)',\n",
       " 'Polarized, Night Vision, Riding Glasses Sports, Wrap-ar...',\n",
       " 'UV Protection Rectangular Sunglasses (Free Size)',\n",
       " 'Riding Glasses, UV Protection Oval Sunglasses (48)',\n",
       " 'UV Protection Retro Square Sunglasses (Free Size)',\n",
       " 'UV Protection Round Sunglasses (54)',\n",
       " 'UV Protection Retro Square Sunglasses (53)',\n",
       " 'UV Protection, Gradient Rectangular Sunglasses (Free Si...',\n",
       " 'UV Protection, Mirrored Retro Square Sunglasses (53)',\n",
       " 'UV Protection Round Sunglasses (53)',\n",
       " 'UV Protection, Polarized, Mirrored Retro Square Sunglas...',\n",
       " 'Gradient Aviator Sunglasses (55)',\n",
       " 'UV Protection Aviator Sunglasses (54)',\n",
       " 'UV Protection, Riding Glasses Rectangular, Wayfarer, Ov...',\n",
       " 'UV Protection, Riding Glasses Wayfarer Sunglasses (53)',\n",
       " 'UV Protection Round Sunglasses (50)',\n",
       " 'UV Protection Rectangular Sunglasses (Free Size)',\n",
       " 'Mirrored, UV Protection, Riding Glasses, Others Round S...',\n",
       " 'UV Protection Rectangular Sunglasses (Free Size)',\n",
       " 'UV Protection Aviator Sunglasses (57)',\n",
       " 'Polarized Round Sunglasses (48)',\n",
       " 'UV Protection Aviator Sunglasses (54)',\n",
       " 'UV Protection Wayfarer Sunglasses (53)',\n",
       " 'Gradient, UV Protection Wayfarer Sunglasses (Free Size)',\n",
       " 'UV Protection Retro Square, Round Sunglasses (54)',\n",
       " 'UV Protection Aviator Sunglasses (Free Size)',\n",
       " 'UV Protection Wayfarer Sunglasses (55)',\n",
       " 'UV Protection Clubmaster Sunglasses (Free Size)',\n",
       " 'UV Protection Round Sunglasses (48)',\n",
       " 'Riding Glasses, UV Protection Oval Sunglasses (52)',\n",
       " 'UV Protection Wayfarer Sunglasses (53)',\n",
       " 'UV Protection Wayfarer Sunglasses (53)',\n",
       " 'UV Protection, Mirrored Retro Square Sunglasses (53)',\n",
       " 'Riding Glasses, Night Vision Wrap-around Sunglasses (Fr...',\n",
       " 'UV Protection Aviator, Wayfarer Sunglasses (Free Size)',\n",
       " 'UV Protection Clubmaster Sunglasses (Free Size)',\n",
       " 'UV Protection, Others Round, Aviator Sunglasses (54)',\n",
       " 'UV Protection Round Sunglasses (Free Size)',\n",
       " 'UV Protection, Riding Glasses, Others Aviator, Wayfarer...',\n",
       " 'Mirrored Aviator Sunglasses (55)',\n",
       " 'UV Protection Aviator Sunglasses (58)',\n",
       " 'Mirrored, UV Protection Wayfarer Sunglasses (Free Size)',\n",
       " 'UV Protection, Gradient Aviator Sunglasses (50)',\n",
       " 'UV Protection Retro Square Sunglasses (Free Size)',\n",
       " 'Mirrored, UV Protection, Gradient Round Sunglasses (55)',\n",
       " 'Night Vision, UV Protection Round Sunglasses (54)',\n",
       " 'UV Protection, Night Vision Wayfarer Sunglasses (Free S...',\n",
       " 'UV Protection Wayfarer Sunglasses (Free Size)',\n",
       " 'UV Protection, Gradient Butterfly Sunglasses (57)',\n",
       " 'UV Protection Butterfly Sunglasses (65)',\n",
       " 'Polarized Retro Square Sunglasses (Free Size)',\n",
       " 'UV Protection Rectangular Sunglasses (Free Size)',\n",
       " 'UV Protection, Mirrored Clubmaster Sunglasses (Free Siz...',\n",
       " 'UV Protection Wayfarer Sunglasses (Free Size)',\n",
       " 'UV Protection Round Sunglasses (Free Size)',\n",
       " 'Polarized, UV Protection Retro Square Sunglasses (53)',\n",
       " 'UV Protection Aviator Sunglasses (Free Size)',\n",
       " 'UV Protection Retro Square Sunglasses (58)',\n",
       " 'UV Protection Round Sunglasses (Free Size)',\n",
       " 'UV Protection Aviator Sunglasses (62)',\n",
       " 'Gradient, Toughened Glass Lens, UV Protection Retro Squ...',\n",
       " 'UV Protection Oval Sunglasses (56)',\n",
       " 'UV Protection Aviator Sunglasses (Free Size)',\n",
       " 'UV Protection, Riding Glasses Retro Square, Spectacle ...',\n",
       " 'Polarized Aviator Sunglasses (Free Size)',\n",
       " 'UV Protection, Riding Glasses, Mirrored Wayfarer Sungla...',\n",
       " 'Polarized Round Sunglasses (48)',\n",
       " 'Mirrored, UV Protection Aviator Sunglasses (56)',\n",
       " 'UV Protection, Gradient Round Sunglasses (Free Size)',\n",
       " 'UV Protection Wayfarer Sunglasses (Free Size)',\n",
       " 'UV Protection Aviator Sunglasses (88)',\n",
       " 'UV Protection Aviator Sunglasses (55)',\n",
       " 'Polarized Round Sunglasses (49)',\n",
       " 'Polarized Wayfarer Sunglasses (Free Size)',\n",
       " 'UV Protection Round Sunglasses (52)',\n",
       " 'UV Protection, Riding Glasses Rectangular Sunglasses (F...',\n",
       " 'UV Protection Wayfarer Sunglasses (Free Size)',\n",
       " 'UV Protection, Gradient Wayfarer Sunglasses (53)',\n",
       " 'UV Protection Aviator Sunglasses (Free Size)',\n",
       " 'UV Protection, Mirrored Round Sunglasses (Free Size)',\n",
       " 'UV Protection, Mirrored Retro Square Sunglasses (53)',\n",
       " 'UV Protection Wayfarer Sunglasses (Free Size)',\n",
       " 'UV Protection Round Sunglasses (53)',\n",
       " 'UV Protection, Gradient Retro Square Sunglasses (Free S...',\n",
       " 'UV Protection Retro Square Sunglasses (Free Size)',\n",
       " 'UV Protection Wayfarer Sunglasses (50)',\n",
       " 'UV Protection, Riding Glasses Rectangular, Retro Square...',\n",
       " 'Polarized Aviator Sunglasses (Free Size)',\n",
       " 'UV Protection Round Sunglasses (Free Size)',\n",
       " 'UV Protection Butterfly Sunglasses (60)',\n",
       " 'UV Protection, Gradient Aviator Sunglasses (57)']"
      ]
     },
     "execution_count": 48,
     "metadata": {},
     "output_type": "execute_result"
    }
   ],
   "source": [
    "description = descrip_1 + descrip_2 + descrip_3\n",
    "description=description[:100:]\n",
    "description"
   ]
  },
  {
   "cell_type": "code",
   "execution_count": 49,
   "id": "ae333cf8",
   "metadata": {},
   "outputs": [
    {
     "data": {
      "text/plain": [
       "100"
      ]
     },
     "execution_count": 49,
     "metadata": {},
     "output_type": "execute_result"
    }
   ],
   "source": [
    "len(description)"
   ]
  },
  {
   "cell_type": "code",
   "execution_count": 50,
   "id": "afee23fd",
   "metadata": {},
   "outputs": [
    {
     "data": {
      "text/plain": [
       "['721',\n",
       " '248',\n",
       " '188',\n",
       " '243',\n",
       " '165',\n",
       " '234',\n",
       " '181',\n",
       " '229',\n",
       " '271',\n",
       " '178',\n",
       " '499',\n",
       " '607',\n",
       " '146',\n",
       " '309',\n",
       " '265',\n",
       " '269',\n",
       " '399',\n",
       " '299',\n",
       " '189',\n",
       " '235',\n",
       " '196',\n",
       " '200',\n",
       " '144',\n",
       " '209',\n",
       " '230',\n",
       " '199',\n",
       " '259',\n",
       " '180',\n",
       " '269',\n",
       " '165',\n",
       " '200',\n",
       " '167',\n",
       " '626',\n",
       " '291',\n",
       " '349',\n",
       " '718',\n",
       " '289',\n",
       " '220',\n",
       " '156',\n",
       " '207',\n",
       " '207',\n",
       " '299',\n",
       " '276',\n",
       " '202',\n",
       " '289',\n",
       " '174',\n",
       " '232',\n",
       " '229',\n",
       " '359',\n",
       " '299',\n",
       " '229',\n",
       " '263',\n",
       " '499',\n",
       " '189',\n",
       " '199',\n",
       " '249',\n",
       " '607',\n",
       " '664',\n",
       " '349',\n",
       " '607',\n",
       " '157',\n",
       " '289',\n",
       " '692',\n",
       " '267',\n",
       " '199',\n",
       " '639',\n",
       " '449',\n",
       " '274',\n",
       " '649',\n",
       " '664',\n",
       " '284',\n",
       " '769',\n",
       " '375',\n",
       " '1,139',\n",
       " '177',\n",
       " '152',\n",
       " '209',\n",
       " '360',\n",
       " '199',\n",
       " '255',\n",
       " '250',\n",
       " '175',\n",
       " '949',\n",
       " '607',\n",
       " '449',\n",
       " '489',\n",
       " '314',\n",
       " '334',\n",
       " '229',\n",
       " '299',\n",
       " '246',\n",
       " '249',\n",
       " '349',\n",
       " '309',\n",
       " '996',\n",
       " '305',\n",
       " '1,199',\n",
       " '449',\n",
       " '349',\n",
       " '224']"
      ]
     },
     "execution_count": 50,
     "metadata": {},
     "output_type": "execute_result"
    }
   ],
   "source": [
    "price= price_1 + price_2 + price_3\n",
    "price = price[:100:]\n",
    "price"
   ]
  },
  {
   "cell_type": "code",
   "execution_count": 51,
   "id": "5fbf4f86",
   "metadata": {},
   "outputs": [
    {
     "data": {
      "text/plain": [
       "100"
      ]
     },
     "execution_count": 51,
     "metadata": {},
     "output_type": "execute_result"
    }
   ],
   "source": [
    "len(price)"
   ]
  },
  {
   "cell_type": "code",
   "execution_count": 52,
   "id": "cf9870d9",
   "metadata": {},
   "outputs": [
    {
     "data": {
      "text/html": [
       "<div>\n",
       "<style scoped>\n",
       "    .dataframe tbody tr th:only-of-type {\n",
       "        vertical-align: middle;\n",
       "    }\n",
       "\n",
       "    .dataframe tbody tr th {\n",
       "        vertical-align: top;\n",
       "    }\n",
       "\n",
       "    .dataframe thead th {\n",
       "        text-align: right;\n",
       "    }\n",
       "</style>\n",
       "<table border=\"1\" class=\"dataframe\">\n",
       "  <thead>\n",
       "    <tr style=\"text-align: right;\">\n",
       "      <th></th>\n",
       "      <th>Brand</th>\n",
       "      <th>Description</th>\n",
       "      <th>Price</th>\n",
       "    </tr>\n",
       "  </thead>\n",
       "  <tbody>\n",
       "    <tr>\n",
       "      <th>0</th>\n",
       "      <td>Fastrack</td>\n",
       "      <td>UV Protection Wayfarer Sunglasses (Free Size)</td>\n",
       "      <td>721</td>\n",
       "    </tr>\n",
       "    <tr>\n",
       "      <th>1</th>\n",
       "      <td>Elligator</td>\n",
       "      <td>UV Protection Round Sunglasses (54)</td>\n",
       "      <td>248</td>\n",
       "    </tr>\n",
       "    <tr>\n",
       "      <th>2</th>\n",
       "      <td>SRPM</td>\n",
       "      <td>UV Protection Wayfarer Sunglasses (50)</td>\n",
       "      <td>188</td>\n",
       "    </tr>\n",
       "    <tr>\n",
       "      <th>3</th>\n",
       "      <td>SUNBEE</td>\n",
       "      <td>UV Protection, Polarized Wayfarer Sunglasses (...</td>\n",
       "      <td>243</td>\n",
       "    </tr>\n",
       "    <tr>\n",
       "      <th>4</th>\n",
       "      <td>SHAAH COLLECTIONS</td>\n",
       "      <td>UV Protection, Polarized, Mirrored Rectangular...</td>\n",
       "      <td>165</td>\n",
       "    </tr>\n",
       "    <tr>\n",
       "      <th>...</th>\n",
       "      <td>...</td>\n",
       "      <td>...</td>\n",
       "      <td>...</td>\n",
       "    </tr>\n",
       "    <tr>\n",
       "      <th>95</th>\n",
       "      <td>Elligator</td>\n",
       "      <td>UV Protection, Riding Glasses Rectangular, Ret...</td>\n",
       "      <td>305</td>\n",
       "    </tr>\n",
       "    <tr>\n",
       "      <th>96</th>\n",
       "      <td>Mi</td>\n",
       "      <td>Polarized Aviator Sunglasses (Free Size)</td>\n",
       "      <td>1,199</td>\n",
       "    </tr>\n",
       "    <tr>\n",
       "      <th>97</th>\n",
       "      <td>ROZZETTA CRAFT</td>\n",
       "      <td>UV Protection Round Sunglasses (Free Size)</td>\n",
       "      <td>449</td>\n",
       "    </tr>\n",
       "    <tr>\n",
       "      <th>98</th>\n",
       "      <td>PIRASO</td>\n",
       "      <td>UV Protection Butterfly Sunglasses (60)</td>\n",
       "      <td>349</td>\n",
       "    </tr>\n",
       "    <tr>\n",
       "      <th>99</th>\n",
       "      <td>GANSTA</td>\n",
       "      <td>UV Protection, Gradient Aviator Sunglasses (57)</td>\n",
       "      <td>224</td>\n",
       "    </tr>\n",
       "  </tbody>\n",
       "</table>\n",
       "<p>100 rows × 3 columns</p>\n",
       "</div>"
      ],
      "text/plain": [
       "                Brand                                        Description  \\\n",
       "0            Fastrack      UV Protection Wayfarer Sunglasses (Free Size)   \n",
       "1           Elligator                UV Protection Round Sunglasses (54)   \n",
       "2                SRPM             UV Protection Wayfarer Sunglasses (50)   \n",
       "3              SUNBEE  UV Protection, Polarized Wayfarer Sunglasses (...   \n",
       "4   SHAAH COLLECTIONS  UV Protection, Polarized, Mirrored Rectangular...   \n",
       "..                ...                                                ...   \n",
       "95          Elligator  UV Protection, Riding Glasses Rectangular, Ret...   \n",
       "96                 Mi           Polarized Aviator Sunglasses (Free Size)   \n",
       "97     ROZZETTA CRAFT         UV Protection Round Sunglasses (Free Size)   \n",
       "98             PIRASO            UV Protection Butterfly Sunglasses (60)   \n",
       "99             GANSTA    UV Protection, Gradient Aviator Sunglasses (57)   \n",
       "\n",
       "    Price  \n",
       "0     721  \n",
       "1     248  \n",
       "2     188  \n",
       "3     243  \n",
       "4     165  \n",
       "..    ...  \n",
       "95    305  \n",
       "96  1,199  \n",
       "97    449  \n",
       "98    349  \n",
       "99    224  \n",
       "\n",
       "[100 rows x 3 columns]"
      ]
     },
     "execution_count": 52,
     "metadata": {},
     "output_type": "execute_result"
    }
   ],
   "source": [
    "df = pd.DataFrame()\n",
    "df['Brand']= brand\n",
    "df['Description'] = description\n",
    "df['Price'] = price\n",
    "df"
   ]
  },
  {
   "cell_type": "raw",
   "id": "35f94c5a",
   "metadata": {},
   "source": [
    "Q5: Scrape 100 reviews data from flipkart.com for iphone11 phone. You have to go the link:\n",
    "https://www.flipkart.com/apple-iphone-11-black-64-gb-includes- earpods-power\u0002adapter/p/itm0f37c2240b217?pid=MOBFKCTSVZAXUHGR&lid=LSTMOBFKC\n",
    "TSVZAXUHGREPBFGI&marketplace.\n",
    "When you will open the above link you will reach to the below shown webpage\n",
    "\n",
    "As shown in the above page you have to scrape the tick marked attributes.These are:\n",
    "1. Rating\n",
    "2. Review summary\n",
    "3. Full review\n",
    "4. You have to scrape this data for first 100 reviews.\n",
    "Note: All the steps required during scraping should be done through code only and not manually"
   ]
  },
  {
   "cell_type": "code",
   "execution_count": 4,
   "id": "1f70670f",
   "metadata": {},
   "outputs": [],
   "source": [
    "driver = webdriver.Chrome(r'C:\\Users\\welcome\\Desktop\\chromedriver_win32\\chromedriver.exe')"
   ]
  },
  {
   "cell_type": "code",
   "execution_count": 5,
   "id": "da1dcfcd",
   "metadata": {},
   "outputs": [],
   "source": [
    "url = 'https://www.flipkart.com/apple-iphone-11-black-64-gb-includes- earpods-power\u0002adapter/p/itm0f37c2240b217?pid=MOBFKCTSVZAXUHGR&lid=LSTMOBFKCTSVZAXUHGREPBFGI&marketplace'\n",
    "driver.get(url)"
   ]
  },
  {
   "cell_type": "code",
   "execution_count": 6,
   "id": "01701a37",
   "metadata": {},
   "outputs": [],
   "source": [
    "all_rev = driver.find_element_by_xpath('//div[@class=\"_3UAT2v _16PBlm\"]//span')\n",
    "all_rev.click()"
   ]
  },
  {
   "cell_type": "code",
   "execution_count": 7,
   "id": "1b8b6021",
   "metadata": {},
   "outputs": [
    {
     "data": {
      "text/plain": [
       "{'Rating': [], 'Summary': [], 'Full_Review': []}"
      ]
     },
     "execution_count": 7,
     "metadata": {},
     "output_type": "execute_result"
    }
   ],
   "source": [
    "Product = {}\n",
    "\n",
    "Product['Rating'] = []\n",
    "Product['Summary'] = []\n",
    "Product['Full_Review'] = []\n",
    "\n",
    "Product"
   ]
  },
  {
   "cell_type": "code",
   "execution_count": 8,
   "id": "bd5b5799",
   "metadata": {},
   "outputs": [],
   "source": [
    "rating = driver.find_elements_by_xpath('//div[@class=\"col _2wzgFH K0kLPL\"]')\n",
    "summary = driver.find_elements_by_xpath('//p[@class=\"_2-N8zT\"]')\n",
    "review = driver.find_elements_by_xpath('//div[@class=\"t-ZTKy\"]')"
   ]
  },
  {
   "cell_type": "code",
   "execution_count": 9,
   "id": "cc2dc9bb",
   "metadata": {},
   "outputs": [],
   "source": [
    "r1 = []\n",
    "for i in range(0,len(rating)):\n",
    "    r1.append(rating[i].text)\n",
    "for j in range(0,len(r1)):\n",
    "    Product['Rating'].append(r1[j][0])\n",
    "    \n",
    "for i in summary:\n",
    "    Product['Summary'].append(i.text)\n",
    "\n",
    "for i in review:\n",
    "    Product['Full_Review'].append(i.text.replace('\\n',''))"
   ]
  },
  {
   "cell_type": "code",
   "execution_count": 10,
   "id": "39b8ca05",
   "metadata": {},
   "outputs": [
    {
     "data": {
      "text/plain": [
       "['5', '5', '5', '5', '5', '5', '5', '5', '4', '5']"
      ]
     },
     "execution_count": 10,
     "metadata": {},
     "output_type": "execute_result"
    }
   ],
   "source": [
    "Product['Rating']"
   ]
  },
  {
   "cell_type": "code",
   "execution_count": 11,
   "id": "14ccbc7e",
   "metadata": {},
   "outputs": [
    {
     "name": "stdout",
     "output_type": "stream",
     "text": [
      "10 10 10\n"
     ]
    }
   ],
   "source": [
    "print(len(Product['Summary']),\n",
    "len(Product['Rating']),\n",
    "len(Product['Full_Review']))"
   ]
  },
  {
   "cell_type": "code",
   "execution_count": 13,
   "id": "adfc4c0f",
   "metadata": {},
   "outputs": [],
   "source": [
    "next = driver.find_element_by_xpath('/html/body/div[1]/div/div[3]/div/div/div[2]/div[13]/div/div/nav/a[11]')\n",
    "next.click()"
   ]
  },
  {
   "cell_type": "code",
   "execution_count": 14,
   "id": "3f80e9c4",
   "metadata": {},
   "outputs": [],
   "source": [
    "rating = driver.find_elements_by_xpath('//div[@class=\"col _2wzgFH K0kLPL\"]')\n",
    "summary = driver.find_elements_by_xpath('//p[@class=\"_2-N8zT\"]')\n",
    "review = driver.find_elements_by_xpath('//div[@class=\"t-ZTKy\"]')"
   ]
  },
  {
   "cell_type": "code",
   "execution_count": 15,
   "id": "b5dc0133",
   "metadata": {},
   "outputs": [],
   "source": [
    "r1 = []\n",
    "\n",
    "for i in range(0,len(rating)):\n",
    "    r1.append(rating[i].text)\n",
    "for j in range(0,len(r1)):\n",
    "    Product['Rating'].append(r1[j][0])\n",
    "    \n",
    "for i in summary:\n",
    "    Product['Summary'].append(i.text)\n",
    "\n",
    "for i in review:\n",
    "    Product['Full_Review'].append(i.text.replace('\\n',''))"
   ]
  },
  {
   "cell_type": "code",
   "execution_count": 16,
   "id": "dcdd5a46",
   "metadata": {},
   "outputs": [
    {
     "name": "stdout",
     "output_type": "stream",
     "text": [
      "20 20 20\n"
     ]
    }
   ],
   "source": [
    "print(len(Product['Summary']),\n",
    "len(Product['Rating']),\n",
    "len(Product['Full_Review']))"
   ]
  },
  {
   "cell_type": "code",
   "execution_count": 18,
   "id": "97ee501e",
   "metadata": {},
   "outputs": [],
   "source": [
    "next = driver.find_element_by_xpath('/html/body/div[1]/div/div[3]/div/div/div[2]/div[13]/div/div/nav/a[12]')\n",
    "next.click()"
   ]
  },
  {
   "cell_type": "code",
   "execution_count": 19,
   "id": "258d0ee1",
   "metadata": {},
   "outputs": [],
   "source": [
    "rating = driver.find_elements_by_xpath('//div[@class=\"col _2wzgFH K0kLPL\"]')\n",
    "summary = driver.find_elements_by_xpath('//p[@class=\"_2-N8zT\"]')\n",
    "review = driver.find_elements_by_xpath('//div[@class=\"t-ZTKy\"]')"
   ]
  },
  {
   "cell_type": "code",
   "execution_count": 20,
   "id": "2edc10b7",
   "metadata": {},
   "outputs": [],
   "source": [
    "r1 = []\n",
    "\n",
    "for i in range(0,len(rating)):\n",
    "    r1.append(rating[i].text)\n",
    "for j in range(0,len(r1)):\n",
    "    Product['Rating'].append(r1[j][0])\n",
    "    \n",
    "for i in summary:\n",
    "    Product['Summary'].append(i.text)\n",
    "\n",
    "for i in review:\n",
    "    Product['Full_Review'].append(i.text.replace('\\n',''))"
   ]
  },
  {
   "cell_type": "code",
   "execution_count": 21,
   "id": "64a0892b",
   "metadata": {},
   "outputs": [
    {
     "name": "stdout",
     "output_type": "stream",
     "text": [
      "30 30 30\n"
     ]
    }
   ],
   "source": [
    "print(len(Product['Summary']),\n",
    "len(Product['Rating']),\n",
    "len(Product['Full_Review']))"
   ]
  },
  {
   "cell_type": "code",
   "execution_count": 22,
   "id": "26ce387c",
   "metadata": {},
   "outputs": [],
   "source": [
    "next = driver.find_element_by_xpath('/html/body/div[1]/div/div[3]/div/div/div[2]/div[13]/div/div/nav/a[12]')\n",
    "next.click()"
   ]
  },
  {
   "cell_type": "code",
   "execution_count": 23,
   "id": "278cdc6b",
   "metadata": {},
   "outputs": [],
   "source": [
    "rating = driver.find_elements_by_xpath('//div[@class=\"col _2wzgFH K0kLPL\"]')\n",
    "summary = driver.find_elements_by_xpath('//p[@class=\"_2-N8zT\"]')\n",
    "review = driver.find_elements_by_xpath('//div[@class=\"t-ZTKy\"]')\n"
   ]
  },
  {
   "cell_type": "code",
   "execution_count": 24,
   "id": "8154ffba",
   "metadata": {},
   "outputs": [],
   "source": [
    "r1 = []\n",
    "\n",
    "for i in range(0,len(rating)):\n",
    "    r1.append(rating[i].text)\n",
    "for j in range(0,len(r1)):\n",
    "    Product['Rating'].append(r1[j][0])\n",
    "    \n",
    "for i in summary:\n",
    "    Product['Summary'].append(i.text)\n",
    "\n",
    "for i in review:\n",
    "    Product['Full_Review'].append(i.text.replace('\\n',''))"
   ]
  },
  {
   "cell_type": "code",
   "execution_count": 25,
   "id": "ee64ad19",
   "metadata": {},
   "outputs": [
    {
     "name": "stdout",
     "output_type": "stream",
     "text": [
      "40 40 40\n"
     ]
    }
   ],
   "source": [
    "print(len(Product['Summary']),\n",
    "len(Product['Rating']),\n",
    "len(Product['Full_Review']))"
   ]
  },
  {
   "cell_type": "code",
   "execution_count": 26,
   "id": "ff041cec",
   "metadata": {},
   "outputs": [],
   "source": [
    "next = driver.find_element_by_xpath('/html/body/div[1]/div/div[3]/div/div/div[2]/div[13]/div/div/nav/a[12]')\n",
    "next.click()"
   ]
  },
  {
   "cell_type": "code",
   "execution_count": 27,
   "id": "b970809f",
   "metadata": {},
   "outputs": [],
   "source": [
    "rating = driver.find_elements_by_xpath('//div[@class=\"col _2wzgFH K0kLPL\"]')\n",
    "summary = driver.find_elements_by_xpath('//p[@class=\"_2-N8zT\"]')\n",
    "review = driver.find_elements_by_xpath('//div[@class=\"t-ZTKy\"]')"
   ]
  },
  {
   "cell_type": "code",
   "execution_count": 28,
   "id": "13fd3ec2",
   "metadata": {},
   "outputs": [],
   "source": [
    "r1 = []\n",
    "\n",
    "for i in range(0,len(rating)):\n",
    "    r1.append(rating[i].text)\n",
    "for j in range(0,len(r1)):\n",
    "    Product['Rating'].append(r1[j][0])\n",
    "    \n",
    "for i in summary:\n",
    "    Product['Summary'].append(i.text)\n",
    "\n",
    "for i in review:\n",
    "    Product['Full_Review'].append(i.text.replace('\\n',''))"
   ]
  },
  {
   "cell_type": "code",
   "execution_count": 29,
   "id": "16f23f29",
   "metadata": {},
   "outputs": [
    {
     "name": "stdout",
     "output_type": "stream",
     "text": [
      "50 50 50\n"
     ]
    }
   ],
   "source": [
    "print(len(Product['Summary']),\n",
    "len(Product['Rating']),\n",
    "len(Product['Full_Review']))"
   ]
  },
  {
   "cell_type": "code",
   "execution_count": 30,
   "id": "d931ffcb",
   "metadata": {},
   "outputs": [],
   "source": [
    "next = driver.find_element_by_xpath('/html/body/div[1]/div/div[3]/div/div/div[2]/div[13]/div/div/nav/a[12]')\n",
    "next.click()"
   ]
  },
  {
   "cell_type": "code",
   "execution_count": 31,
   "id": "c2b53b9a",
   "metadata": {},
   "outputs": [],
   "source": [
    "rating = driver.find_elements_by_xpath('//div[@class=\"col _2wzgFH K0kLPL\"]')\n",
    "summary = driver.find_elements_by_xpath('//p[@class=\"_2-N8zT\"]')\n",
    "review = driver.find_elements_by_xpath('//div[@class=\"t-ZTKy\"]')"
   ]
  },
  {
   "cell_type": "code",
   "execution_count": 32,
   "id": "0f3c3e35",
   "metadata": {},
   "outputs": [],
   "source": [
    "r1 = []\n",
    "\n",
    "for i in range(0,len(rating)):\n",
    "    r1.append(rating[i].text)\n",
    "for j in range(0,len(r1)):\n",
    "    Product['Rating'].append(r1[j][0])\n",
    "    \n",
    "for i in summary:\n",
    "    Product['Summary'].append(i.text)\n",
    "\n",
    "for i in review:\n",
    "    Product['Full_Review'].append(i.text.replace('\\n',''))\n"
   ]
  },
  {
   "cell_type": "code",
   "execution_count": 33,
   "id": "b9f690bd",
   "metadata": {},
   "outputs": [
    {
     "name": "stdout",
     "output_type": "stream",
     "text": [
      "60 60 60\n"
     ]
    }
   ],
   "source": [
    "print(len(Product['Summary']),\n",
    "len(Product['Rating']),\n",
    "len(Product['Full_Review']))"
   ]
  },
  {
   "cell_type": "code",
   "execution_count": 34,
   "id": "cc9cff18",
   "metadata": {},
   "outputs": [],
   "source": [
    "next = driver.find_element_by_xpath('/html/body/div[1]/div/div[3]/div/div/div[2]/div[13]/div/div/nav/a[12]')\n",
    "next.click()"
   ]
  },
  {
   "cell_type": "code",
   "execution_count": 35,
   "id": "c7814851",
   "metadata": {},
   "outputs": [],
   "source": [
    "rating = driver.find_elements_by_xpath('//div[@class=\"col _2wzgFH K0kLPL\"]')\n",
    "summary = driver.find_elements_by_xpath('//p[@class=\"_2-N8zT\"]')\n",
    "review = driver.find_elements_by_xpath('//div[@class=\"t-ZTKy\"]')"
   ]
  },
  {
   "cell_type": "code",
   "execution_count": 36,
   "id": "d5b2307c",
   "metadata": {},
   "outputs": [],
   "source": [
    "r1 = []\n",
    "\n",
    "for i in range(0,len(rating)):\n",
    "    r1.append(rating[i].text)\n",
    "for j in range(0,len(r1)):\n",
    "    Product['Rating'].append(r1[j][0])\n",
    "    \n",
    "for i in summary:\n",
    "    Product['Summary'].append(i.text)\n",
    "\n",
    "for i in review:\n",
    "    Product['Full_Review'].append(i.text.replace('\\n',''))"
   ]
  },
  {
   "cell_type": "code",
   "execution_count": 37,
   "id": "a6d8dcb4",
   "metadata": {},
   "outputs": [
    {
     "name": "stdout",
     "output_type": "stream",
     "text": [
      "70 70 70\n"
     ]
    }
   ],
   "source": [
    "print(len(Product['Summary']),\n",
    "len(Product['Rating']),\n",
    "len(Product['Full_Review']))"
   ]
  },
  {
   "cell_type": "code",
   "execution_count": 38,
   "id": "6e562308",
   "metadata": {},
   "outputs": [],
   "source": [
    "next = driver.find_element_by_xpath('/html/body/div[1]/div/div[3]/div/div/div[2]/div[13]/div/div/nav/a[12]')\n",
    "next.click()"
   ]
  },
  {
   "cell_type": "code",
   "execution_count": 39,
   "id": "131b7817",
   "metadata": {},
   "outputs": [],
   "source": [
    "rating = driver.find_elements_by_xpath('//div[@class=\"col _2wzgFH K0kLPL\"]')\n",
    "summary = driver.find_elements_by_xpath('//p[@class=\"_2-N8zT\"]')\n",
    "review = driver.find_elements_by_xpath('//div[@class=\"t-ZTKy\"]')"
   ]
  },
  {
   "cell_type": "code",
   "execution_count": 40,
   "id": "753ea286",
   "metadata": {},
   "outputs": [],
   "source": [
    "r1 = []\n",
    "\n",
    "for i in range(0,len(rating)):\n",
    "    r1.append(rating[i].text)\n",
    "for j in range(0,len(r1)):\n",
    "    Product['Rating'].append(r1[j][0])\n",
    "    \n",
    "for i in summary:\n",
    "    Product['Summary'].append(i.text)\n",
    "\n",
    "for i in review:\n",
    "    Product['Full_Review'].append(i.text.replace('\\n',''))"
   ]
  },
  {
   "cell_type": "code",
   "execution_count": 41,
   "id": "5da89418",
   "metadata": {},
   "outputs": [
    {
     "name": "stdout",
     "output_type": "stream",
     "text": [
      "80 80 80\n"
     ]
    }
   ],
   "source": [
    "print(len(Product['Summary']),\n",
    "len(Product['Rating']),\n",
    "len(Product['Full_Review']))"
   ]
  },
  {
   "cell_type": "code",
   "execution_count": 42,
   "id": "30eae5c7",
   "metadata": {},
   "outputs": [],
   "source": [
    "next = driver.find_element_by_xpath('/html/body/div[1]/div/div[3]/div/div/div[2]/div[13]/div/div/nav/a[12]')\n",
    "next.click()"
   ]
  },
  {
   "cell_type": "code",
   "execution_count": 43,
   "id": "dafb1330",
   "metadata": {},
   "outputs": [],
   "source": [
    "rating = driver.find_elements_by_xpath('//div[@class=\"col _2wzgFH K0kLPL\"]')\n",
    "summary = driver.find_elements_by_xpath('//p[@class=\"_2-N8zT\"]')\n",
    "review = driver.find_elements_by_xpath('//div[@class=\"t-ZTKy\"]')"
   ]
  },
  {
   "cell_type": "code",
   "execution_count": 44,
   "id": "264cb327",
   "metadata": {},
   "outputs": [],
   "source": [
    "r1 = []\n",
    "\n",
    "for i in range(0,len(rating)):\n",
    "    r1.append(rating[i].text)\n",
    "for j in range(0,len(r1)):\n",
    "    Product['Rating'].append(r1[j][0])\n",
    "    \n",
    "for i in summary:\n",
    "    Product['Summary'].append(i.text)\n",
    "\n",
    "for i in review:\n",
    "    Product['Full_Review'].append(i.text.replace('\\n',''))"
   ]
  },
  {
   "cell_type": "code",
   "execution_count": 45,
   "id": "90c07505",
   "metadata": {},
   "outputs": [
    {
     "name": "stdout",
     "output_type": "stream",
     "text": [
      "90 90 90\n"
     ]
    }
   ],
   "source": [
    "print(len(Product['Summary']),\n",
    "len(Product['Rating']),\n",
    "len(Product['Full_Review']))"
   ]
  },
  {
   "cell_type": "code",
   "execution_count": 46,
   "id": "fe9d5b25",
   "metadata": {},
   "outputs": [],
   "source": [
    "next = driver.find_element_by_xpath('/html/body/div[1]/div/div[3]/div/div/div[2]/div[13]/div/div/nav/a[12]')\n",
    "next.click()"
   ]
  },
  {
   "cell_type": "code",
   "execution_count": 47,
   "id": "b7fb0b67",
   "metadata": {},
   "outputs": [],
   "source": [
    "rating = driver.find_elements_by_xpath('//div[@class=\"col _2wzgFH K0kLPL\"]')\n",
    "summary = driver.find_elements_by_xpath('//p[@class=\"_2-N8zT\"]')\n",
    "review = driver.find_elements_by_xpath('//div[@class=\"t-ZTKy\"]')\n"
   ]
  },
  {
   "cell_type": "code",
   "execution_count": 48,
   "id": "f65e85fd",
   "metadata": {},
   "outputs": [],
   "source": [
    "r1 = []\n",
    "\n",
    "for i in range(0,len(rating)):\n",
    "    r1.append(rating[i].text)\n",
    "for j in range(0,len(r1)):\n",
    "    Product['Rating'].append(r1[j][0])\n",
    "    \n",
    "for i in summary:\n",
    "    Product['Summary'].append(i.text)\n",
    "\n",
    "for i in review:\n",
    "    Product['Full_Review'].append(i.text.replace('\\n',''))"
   ]
  },
  {
   "cell_type": "code",
   "execution_count": 49,
   "id": "0941a694",
   "metadata": {},
   "outputs": [
    {
     "name": "stdout",
     "output_type": "stream",
     "text": [
      "100 100 100\n"
     ]
    }
   ],
   "source": [
    "print(len(Product['Summary']),\n",
    "len(Product['Rating']),\n",
    "len(Product['Full_Review']))"
   ]
  },
  {
   "cell_type": "code",
   "execution_count": 50,
   "id": "e5d6a231",
   "metadata": {},
   "outputs": [
    {
     "data": {
      "text/html": [
       "<div>\n",
       "<style scoped>\n",
       "    .dataframe tbody tr th:only-of-type {\n",
       "        vertical-align: middle;\n",
       "    }\n",
       "\n",
       "    .dataframe tbody tr th {\n",
       "        vertical-align: top;\n",
       "    }\n",
       "\n",
       "    .dataframe thead th {\n",
       "        text-align: right;\n",
       "    }\n",
       "</style>\n",
       "<table border=\"1\" class=\"dataframe\">\n",
       "  <thead>\n",
       "    <tr style=\"text-align: right;\">\n",
       "      <th></th>\n",
       "      <th>Rating</th>\n",
       "      <th>Summary</th>\n",
       "      <th>Full_Review</th>\n",
       "    </tr>\n",
       "  </thead>\n",
       "  <tbody>\n",
       "    <tr>\n",
       "      <th>0</th>\n",
       "      <td>5</td>\n",
       "      <td>Brilliant</td>\n",
       "      <td>The Best Phone for the MoneyThe iPhone 11 offe...</td>\n",
       "    </tr>\n",
       "    <tr>\n",
       "      <th>1</th>\n",
       "      <td>5</td>\n",
       "      <td>Simply awesome</td>\n",
       "      <td>Really satisfied with the Product I received.....</td>\n",
       "    </tr>\n",
       "    <tr>\n",
       "      <th>2</th>\n",
       "      <td>5</td>\n",
       "      <td>Best in the market!</td>\n",
       "      <td>Great iPhone very snappy experience as apple k...</td>\n",
       "    </tr>\n",
       "    <tr>\n",
       "      <th>3</th>\n",
       "      <td>5</td>\n",
       "      <td>Perfect product!</td>\n",
       "      <td>Amazing phone with great cameras and better ba...</td>\n",
       "    </tr>\n",
       "    <tr>\n",
       "      <th>4</th>\n",
       "      <td>5</td>\n",
       "      <td>Fabulous!</td>\n",
       "      <td>This is my first iOS phone. I am very happy wi...</td>\n",
       "    </tr>\n",
       "    <tr>\n",
       "      <th>...</th>\n",
       "      <td>...</td>\n",
       "      <td>...</td>\n",
       "      <td>...</td>\n",
       "    </tr>\n",
       "    <tr>\n",
       "      <th>95</th>\n",
       "      <td>5</td>\n",
       "      <td>Highly recommended</td>\n",
       "      <td>Amazing camera quality as expected, battery al...</td>\n",
       "    </tr>\n",
       "    <tr>\n",
       "      <th>96</th>\n",
       "      <td>5</td>\n",
       "      <td>Must buy!</td>\n",
       "      <td>Dear friends... I want to share my experience ...</td>\n",
       "    </tr>\n",
       "    <tr>\n",
       "      <th>97</th>\n",
       "      <td>5</td>\n",
       "      <td>Must buy!</td>\n",
       "      <td>Camera is excellent just lack of telephoto mod...</td>\n",
       "    </tr>\n",
       "    <tr>\n",
       "      <th>98</th>\n",
       "      <td>5</td>\n",
       "      <td>Excellent</td>\n",
       "      <td>It was amazing experience for me. Honestly i a...</td>\n",
       "    </tr>\n",
       "    <tr>\n",
       "      <th>99</th>\n",
       "      <td>5</td>\n",
       "      <td>Just wow!</td>\n",
       "      <td>Not mere a phone , Its more than that for fun ...</td>\n",
       "    </tr>\n",
       "  </tbody>\n",
       "</table>\n",
       "<p>100 rows × 3 columns</p>\n",
       "</div>"
      ],
      "text/plain": [
       "   Rating              Summary  \\\n",
       "0       5            Brilliant   \n",
       "1       5       Simply awesome   \n",
       "2       5  Best in the market!   \n",
       "3       5     Perfect product!   \n",
       "4       5            Fabulous!   \n",
       "..    ...                  ...   \n",
       "95      5   Highly recommended   \n",
       "96      5            Must buy!   \n",
       "97      5            Must buy!   \n",
       "98      5            Excellent   \n",
       "99      5            Just wow!   \n",
       "\n",
       "                                          Full_Review  \n",
       "0   The Best Phone for the MoneyThe iPhone 11 offe...  \n",
       "1   Really satisfied with the Product I received.....  \n",
       "2   Great iPhone very snappy experience as apple k...  \n",
       "3   Amazing phone with great cameras and better ba...  \n",
       "4   This is my first iOS phone. I am very happy wi...  \n",
       "..                                                ...  \n",
       "95  Amazing camera quality as expected, battery al...  \n",
       "96  Dear friends... I want to share my experience ...  \n",
       "97  Camera is excellent just lack of telephoto mod...  \n",
       "98  It was amazing experience for me. Honestly i a...  \n",
       "99  Not mere a phone , Its more than that for fun ...  \n",
       "\n",
       "[100 rows x 3 columns]"
      ]
     },
     "execution_count": 50,
     "metadata": {},
     "output_type": "execute_result"
    }
   ],
   "source": [
    "Product = pd.DataFrame(Product)\n",
    "Product"
   ]
  },
  {
   "cell_type": "raw",
   "id": "fa8faa6f",
   "metadata": {},
   "source": [
    "Q6: Scrape data for first 100 sneakers you find when you visit flipkart.com andsearch for “sneakers” in the\n",
    "search field.\n",
    "\n",
    "You have to scrape 4 attributes of each sneaker:\n",
    "1. Brand\n",
    "2. Product Description\n",
    "3. Price\n",
    "As shown in the below image, you have to scrape the tick marked attributes.\n",
    "\n",
    "Note: All the steps required during scraping should be done through code only and not manually."
   ]
  },
  {
   "cell_type": "code",
   "execution_count": 51,
   "id": "2f3f274b",
   "metadata": {},
   "outputs": [],
   "source": [
    "driver = webdriver.Chrome(r'C:\\Users\\welcome\\Desktop\\chromedriver_win32\\chromedriver.exe')"
   ]
  },
  {
   "cell_type": "code",
   "execution_count": 52,
   "id": "7bf711f3",
   "metadata": {},
   "outputs": [],
   "source": [
    "url = 'https://www.flipkart.com/'\n",
    "driver.get(url)"
   ]
  },
  {
   "cell_type": "code",
   "execution_count": 54,
   "id": "50d40957",
   "metadata": {},
   "outputs": [],
   "source": [
    "search_product8 = driver.find_element_by_xpath('/html/body/div[1]/div/div[1]/div[1]/div[2]/div[2]/form/div/div/input')\n",
    "search_product8.send_keys('sneakers')\n",
    "search_btn8 = driver.find_element_by_xpath('//button[@class=\"L0Z3Pu\"]')\n",
    "search_btn8.click()\n",
    "    \n",
    "   "
   ]
  },
  {
   "cell_type": "code",
   "execution_count": 66,
   "id": "1ccf3f3f",
   "metadata": {},
   "outputs": [],
   "source": [
    "\n",
    "for j in range(100):\n",
    "    brand8 = driver.find_elements_by_xpath('//div[@class=\"_2WkVRV\"]')\n",
    "Brand1 = []\n",
    "for i in brand8:\n",
    "    Brand1.append(i.text)\n",
    "\n",
    "desc8 = driver.find_elements_by_xpath('//div[@class=\"_2B099V\"]//a')\n",
    "description1 = []\n",
    "for i in range(0,len(desc8),2):\n",
    "    description1.append(desc8[i].text)\n",
    "description1\n",
    "\n",
    "price = driver.find_elements_by_xpath('//div[@class=\"_25b18c\"]//div[1]')\n",
    "price1 = []\n",
    "for i in price:\n",
    "    price1.append(i.text)\n",
    "price1 = price1[:40]\n",
    "    \n",
    "    \n",
    "   \n",
    "    # going on next page\n"
   ]
  },
  {
   "cell_type": "code",
   "execution_count": 56,
   "id": "9d74a6f1",
   "metadata": {},
   "outputs": [],
   "source": [
    "next_page1 = driver.find_element_by_xpath('//a[@class=\"ge-49M\"]')\n",
    "next_page1.click()"
   ]
  },
  {
   "cell_type": "code",
   "execution_count": 68,
   "id": "eb9e0ff3",
   "metadata": {},
   "outputs": [],
   "source": [
    "for j in range(100):\n",
    "    brand8 = driver.find_elements_by_xpath('//div[@class=\"_2WkVRV\"]')\n",
    "Brand2 = []\n",
    "for i in brand8:\n",
    "    Brand2.append(i.text)\n",
    "\n",
    "desc8 = driver.find_elements_by_xpath('//div[@class=\"_2B099V\"]//a')\n",
    "description2 = []\n",
    "for i in range(0,len(desc8),2):\n",
    "    description2.append(desc8[i].text)\n",
    "description2\n",
    "\n",
    "price = driver.find_elements_by_xpath('//div[@class=\"_25b18c\"]//div[1]')\n",
    "price2 = []\n",
    "for i in price:\n",
    "    price2.append(i.text)\n",
    "price2 = price2[:40]"
   ]
  },
  {
   "cell_type": "code",
   "execution_count": 73,
   "id": "f9ac35b3",
   "metadata": {},
   "outputs": [],
   "source": [
    "next_page2 = driver.find_element_by_xpath('/html/body/div[1]/div/div[3]/div[1]/div[2]/div[12]/div/div/nav/a[4]')\n",
    "next_page2.click()"
   ]
  },
  {
   "cell_type": "code",
   "execution_count": 74,
   "id": "3a260df8",
   "metadata": {},
   "outputs": [],
   "source": [
    "for j in range(100):\n",
    "    brand8 = driver.find_elements_by_xpath('//div[@class=\"_2WkVRV\"]')\n",
    "Brand3 = []\n",
    "for i in range(0,20):\n",
    "    Brand3.append(brand8[i].text)\n",
    "\n",
    "desc8 = driver.find_elements_by_xpath('//div[@class=\"_2B099V\"]//a')\n",
    "description3 = []\n",
    "for i in range(0,len(desc8),2):\n",
    "    description3.append(desc8[i].text)\n",
    "description3 = description3[:20]\n",
    "\n",
    "price = driver.find_elements_by_xpath('//div[@class=\"_25b18c\"]//div[1]')\n",
    "price3 = []\n",
    "for i in price:\n",
    "    price3.append(i.text)\n",
    "price3 = price3[:20]\n",
    "\n",
    "        "
   ]
  },
  {
   "cell_type": "code",
   "execution_count": 78,
   "id": "962dfbe1",
   "metadata": {},
   "outputs": [
    {
     "data": {
      "text/html": [
       "<div>\n",
       "<style scoped>\n",
       "    .dataframe tbody tr th:only-of-type {\n",
       "        vertical-align: middle;\n",
       "    }\n",
       "\n",
       "    .dataframe tbody tr th {\n",
       "        vertical-align: top;\n",
       "    }\n",
       "\n",
       "    .dataframe thead th {\n",
       "        text-align: right;\n",
       "    }\n",
       "</style>\n",
       "<table border=\"1\" class=\"dataframe\">\n",
       "  <thead>\n",
       "    <tr style=\"text-align: right;\">\n",
       "      <th></th>\n",
       "      <th>Brand</th>\n",
       "      <th>Description</th>\n",
       "      <th>Price</th>\n",
       "    </tr>\n",
       "  </thead>\n",
       "  <tbody>\n",
       "    <tr>\n",
       "      <th>0</th>\n",
       "      <td>Robbie jones</td>\n",
       "      <td>Sneakers For Men</td>\n",
       "      <td>₹449</td>\n",
       "    </tr>\n",
       "    <tr>\n",
       "      <th>1</th>\n",
       "      <td>CLYMB</td>\n",
       "      <td>Perfect Sports Shoes for Men's Running ,Cyclin...</td>\n",
       "      <td>₹199</td>\n",
       "    </tr>\n",
       "    <tr>\n",
       "      <th>2</th>\n",
       "      <td>World Wear Footwear</td>\n",
       "      <td>Latest Collection-1227 Stylish Casual Sports S...</td>\n",
       "      <td>₹209</td>\n",
       "    </tr>\n",
       "    <tr>\n",
       "      <th>3</th>\n",
       "      <td>BRUTON</td>\n",
       "      <td>Combo Pack Of 3 Latest Casual Shoes Sneakers F...</td>\n",
       "      <td>₹397</td>\n",
       "    </tr>\n",
       "    <tr>\n",
       "      <th>4</th>\n",
       "      <td>BRUTON</td>\n",
       "      <td>Lightweight Pack Of 1 Trendy Sneakers Sneakers...</td>\n",
       "      <td>₹139</td>\n",
       "    </tr>\n",
       "    <tr>\n",
       "      <th>...</th>\n",
       "      <td>...</td>\n",
       "      <td>...</td>\n",
       "      <td>...</td>\n",
       "    </tr>\n",
       "    <tr>\n",
       "      <th>95</th>\n",
       "      <td>India hub</td>\n",
       "      <td>Luxury Fashionable casual sneaker shoes Sneake...</td>\n",
       "      <td>₹379</td>\n",
       "    </tr>\n",
       "    <tr>\n",
       "      <th>96</th>\n",
       "      <td>T-ROCK</td>\n",
       "      <td>Stylish White Casual Sneakers shoes Men and Bo...</td>\n",
       "      <td>₹349</td>\n",
       "    </tr>\n",
       "    <tr>\n",
       "      <th>97</th>\n",
       "      <td>BIRDE</td>\n",
       "      <td>Combo Pack of 4 Casual Shoes Sneakers For Men</td>\n",
       "      <td>₹528</td>\n",
       "    </tr>\n",
       "    <tr>\n",
       "      <th>98</th>\n",
       "      <td>SPARX</td>\n",
       "      <td>Casual Sneakers Sneakers For Men</td>\n",
       "      <td>₹1,042</td>\n",
       "    </tr>\n",
       "    <tr>\n",
       "      <th>99</th>\n",
       "      <td>AERAMBOL</td>\n",
       "      <td>Men's Stylish Sports &amp; Casual Shoes For Men Sn...</td>\n",
       "      <td>₹210</td>\n",
       "    </tr>\n",
       "  </tbody>\n",
       "</table>\n",
       "<p>100 rows × 3 columns</p>\n",
       "</div>"
      ],
      "text/plain": [
       "                  Brand                                        Description  \\\n",
       "0          Robbie jones                                   Sneakers For Men   \n",
       "1                 CLYMB  Perfect Sports Shoes for Men's Running ,Cyclin...   \n",
       "2   World Wear Footwear  Latest Collection-1227 Stylish Casual Sports S...   \n",
       "3                BRUTON  Combo Pack Of 3 Latest Casual Shoes Sneakers F...   \n",
       "4                BRUTON  Lightweight Pack Of 1 Trendy Sneakers Sneakers...   \n",
       "..                  ...                                                ...   \n",
       "95            India hub  Luxury Fashionable casual sneaker shoes Sneake...   \n",
       "96               T-ROCK  Stylish White Casual Sneakers shoes Men and Bo...   \n",
       "97                BIRDE      Combo Pack of 4 Casual Shoes Sneakers For Men   \n",
       "98                SPARX                   Casual Sneakers Sneakers For Men   \n",
       "99             AERAMBOL  Men's Stylish Sports & Casual Shoes For Men Sn...   \n",
       "\n",
       "     Price  \n",
       "0     ₹449  \n",
       "1     ₹199  \n",
       "2     ₹209  \n",
       "3     ₹397  \n",
       "4     ₹139  \n",
       "..     ...  \n",
       "95    ₹379  \n",
       "96    ₹349  \n",
       "97    ₹528  \n",
       "98  ₹1,042  \n",
       "99    ₹210  \n",
       "\n",
       "[100 rows x 3 columns]"
      ]
     },
     "execution_count": 78,
     "metadata": {},
     "output_type": "execute_result"
    }
   ],
   "source": [
    "Flipkart_Sneakers = pd.DataFrame()\n",
    "\n",
    "Flipkart_Sneakers['Brand'] = Brand1 + Brand2 + Brand3\n",
    "Flipkart_Sneakers['Description'] = description1 + description2 + description3\n",
    "Flipkart_Sneakers['Price'] = price1 + price2 + price3\n",
    "    \n",
    "Flipkart_Sneakers"
   ]
  },
  {
   "cell_type": "raw",
   "id": "a6e18c41",
   "metadata": {},
   "source": [
    "Q7: Go to the link - https://www.myntra.com/shoes\n",
    "Set Price filter to “Rs. 7149 to Rs. 14099 ” , Color filter to “Black”, as shown inthe below image.\n",
    "\n",
    "And then scrape First 100 shoes data you get. The data should include “Brand” of the shoes , Short Shoe\n",
    "description, price of the shoe as shown in the below image.\n",
    "\n",
    "Note: Applying the filter and scraping the data, everything should be done through code only and there\n",
    "should not be any manual step.\n"
   ]
  },
  {
   "cell_type": "code",
   "execution_count": 79,
   "id": "c326aa95",
   "metadata": {},
   "outputs": [],
   "source": [
    "driver = webdriver.Chrome(r'C:\\Users\\welcome\\Desktop\\chromedriver_win32\\chromedriver.exe')"
   ]
  },
  {
   "cell_type": "code",
   "execution_count": 80,
   "id": "53210184",
   "metadata": {},
   "outputs": [],
   "source": [
    "url = 'https://www.myntra.com/shoes'\n",
    "driver.get(url)"
   ]
  },
  {
   "cell_type": "code",
   "execution_count": 81,
   "id": "49d4b8bc",
   "metadata": {},
   "outputs": [],
   "source": [
    "price_filt = driver.find_element_by_xpath('/html/body/div[2]/div/div[1]/main/div[3]/div[1]/section/div/div[5]/ul/li[2]/label/div')\n",
    "price_filt.click()"
   ]
  },
  {
   "cell_type": "code",
   "execution_count": 82,
   "id": "f5712610",
   "metadata": {},
   "outputs": [],
   "source": [
    "color_filt = driver.find_element_by_xpath('/html/body/div[2]/div/div[1]/main/div[3]/div[1]/section/div/div[6]/ul/li[1]/label/div')\n",
    "color_filt.click()"
   ]
  },
  {
   "cell_type": "code",
   "execution_count": 83,
   "id": "5e2469fb",
   "metadata": {},
   "outputs": [],
   "source": [
    "price_filt = driver.find_element_by_xpath('//ul[@class=\"price-list\"]//li[2]')\n",
    "price_filt.click()"
   ]
  },
  {
   "cell_type": "code",
   "execution_count": 84,
   "id": "9240d3e0",
   "metadata": {},
   "outputs": [],
   "source": [
    "Shoe_Brand = {}\n",
    "Shoe_Brand['Brand'] = []\n",
    "Shoe_Brand['Short_Description'] = []\n",
    "Shoe_Brand['Price'] = []"
   ]
  },
  {
   "cell_type": "code",
   "execution_count": 85,
   "id": "1e836c10",
   "metadata": {},
   "outputs": [
    {
     "data": {
      "text/plain": [
       "50"
      ]
     },
     "execution_count": 85,
     "metadata": {},
     "output_type": "execute_result"
    }
   ],
   "source": [
    "brd1 = driver.find_elements_by_xpath('//div[@class=\"product-productMetaInfo\"]/h3')\n",
    "for i in brd1:\n",
    "    Shoe_Brand['Brand'].append(i.text)\n",
    "len(Shoe_Brand['Brand'])\n",
    "    \n",
    "    \n",
    "brd_d1 = driver.find_elements_by_xpath('//div[@class=\"product-productMetaInfo\"]/h4[1]')\n",
    "for i in brd_d1:\n",
    "    Shoe_Brand['Short_Description'].append(i.text)\n",
    "len(Shoe_Brand['Short_Description'])  "
   ]
  },
  {
   "cell_type": "code",
   "execution_count": 86,
   "id": "072b8fff",
   "metadata": {},
   "outputs": [],
   "source": [
    "brd_p1 = driver.find_elements_by_xpath('//div[@class=\"product-price\"]/span[1]')\n",
    "p = []\n",
    "for i in brd_p1:\n",
    "    p.append(i.text.replace('Rs.',' '))\n",
    "for j in range(0,len(p)):\n",
    "    Shoe_Brand['Price'].append(p[j][:7])"
   ]
  },
  {
   "cell_type": "code",
   "execution_count": 87,
   "id": "f28d7908",
   "metadata": {},
   "outputs": [
    {
     "data": {
      "text/plain": [
       "['  7995',\n",
       " '  7495',\n",
       " '  10995',\n",
       " '  7999',\n",
       " '  12999',\n",
       " '  12999',\n",
       " '  7799 ',\n",
       " '  10499',\n",
       " '  7999',\n",
       " '  7999',\n",
       " '  7224 ',\n",
       " '  7799 ',\n",
       " '  8999',\n",
       " '  9999',\n",
       " '  7999',\n",
       " '  8999',\n",
       " '  8990',\n",
       " '  7999',\n",
       " '  7599',\n",
       " '  9999',\n",
       " '  7999',\n",
       " '  7149 ',\n",
       " '  7699',\n",
       " '  7999',\n",
       " '  7199 ',\n",
       " '  7149 ',\n",
       " '  7999',\n",
       " '  7739 ',\n",
       " '  7999',\n",
       " '  9265 ',\n",
       " '  13990',\n",
       " '  10990',\n",
       " '  10500',\n",
       " '  7999',\n",
       " '  8499',\n",
       " '  8399 ',\n",
       " '  9999',\n",
       " '  7999 ',\n",
       " '  8990',\n",
       " '  12325',\n",
       " '  7219 ',\n",
       " '  11473',\n",
       " '  7999',\n",
       " '  7990',\n",
       " '  11470',\n",
       " '  8925 ',\n",
       " '  7565 ',\n",
       " '  7199 ',\n",
       " '  12999',\n",
       " '  12999']"
      ]
     },
     "execution_count": 87,
     "metadata": {},
     "output_type": "execute_result"
    }
   ],
   "source": [
    "Shoe_Brand['Price']"
   ]
  },
  {
   "cell_type": "code",
   "execution_count": 88,
   "id": "5fccdb89",
   "metadata": {},
   "outputs": [
    {
     "data": {
      "text/plain": [
       "50"
      ]
     },
     "execution_count": 88,
     "metadata": {},
     "output_type": "execute_result"
    }
   ],
   "source": [
    "len(Shoe_Brand['Price'])"
   ]
  },
  {
   "cell_type": "code",
   "execution_count": 89,
   "id": "97733050",
   "metadata": {},
   "outputs": [],
   "source": [
    "Next_Page = driver.find_element_by_xpath('//li[@class=\"pagination-next\"]')\n",
    "Next_Page.click()"
   ]
  },
  {
   "cell_type": "code",
   "execution_count": 90,
   "id": "cf53e705",
   "metadata": {},
   "outputs": [
    {
     "data": {
      "text/plain": [
       "100"
      ]
     },
     "execution_count": 90,
     "metadata": {},
     "output_type": "execute_result"
    }
   ],
   "source": [
    "brd2 = driver.find_elements_by_xpath('//div[@class=\"product-productMetaInfo\"]/h3')\n",
    "for i in brd2:\n",
    "    Shoe_Brand['Brand'].append(i.text)\n",
    "len(Shoe_Brand['Brand'])\n",
    "brd_d2 = driver.find_elements_by_xpath('//div[@class=\"product-productMetaInfo\"]/h4[1]')\n",
    "for i in brd_d2:\n",
    "    Shoe_Brand['Short_Description'].append(i.text)\n",
    "len(Shoe_Brand['Short_Description'])  "
   ]
  },
  {
   "cell_type": "code",
   "execution_count": 91,
   "id": "418afac6",
   "metadata": {},
   "outputs": [],
   "source": [
    "brd_p2 = driver.find_elements_by_xpath('//div[@class=\"product-price\"]/span[1]')\n",
    "p2 = []\n",
    "for i in brd_p2:\n",
    "    p2.append(i.text.replace('Rs.',' '))\n",
    "for j in range(0,len(p2)):\n",
    "    Shoe_Brand['Price'].append(p2[j][:7])"
   ]
  },
  {
   "cell_type": "code",
   "execution_count": 92,
   "id": "c259e08f",
   "metadata": {},
   "outputs": [
    {
     "name": "stdout",
     "output_type": "stream",
     "text": [
      "100 100 100\n"
     ]
    }
   ],
   "source": [
    "print(len(Shoe_Brand['Brand']),len(Shoe_Brand['Short_Description']),len(Shoe_Brand['Price']))"
   ]
  },
  {
   "cell_type": "code",
   "execution_count": 93,
   "id": "8f158dbc",
   "metadata": {},
   "outputs": [
    {
     "data": {
      "text/html": [
       "<div>\n",
       "<style scoped>\n",
       "    .dataframe tbody tr th:only-of-type {\n",
       "        vertical-align: middle;\n",
       "    }\n",
       "\n",
       "    .dataframe tbody tr th {\n",
       "        vertical-align: top;\n",
       "    }\n",
       "\n",
       "    .dataframe thead th {\n",
       "        text-align: right;\n",
       "    }\n",
       "</style>\n",
       "<table border=\"1\" class=\"dataframe\">\n",
       "  <thead>\n",
       "    <tr style=\"text-align: right;\">\n",
       "      <th></th>\n",
       "      <th>Brand</th>\n",
       "      <th>Short_Description</th>\n",
       "      <th>Price</th>\n",
       "    </tr>\n",
       "  </thead>\n",
       "  <tbody>\n",
       "    <tr>\n",
       "      <th>0</th>\n",
       "      <td>Nike</td>\n",
       "      <td>Men Winflo 7 Running Shoes</td>\n",
       "      <td>7995</td>\n",
       "    </tr>\n",
       "    <tr>\n",
       "      <th>1</th>\n",
       "      <td>Nike</td>\n",
       "      <td>Men Blazer Court Skateboarding</td>\n",
       "      <td>7495</td>\n",
       "    </tr>\n",
       "    <tr>\n",
       "      <th>2</th>\n",
       "      <td>Nike</td>\n",
       "      <td>Men Air Max Dawn Sneakers</td>\n",
       "      <td>10995</td>\n",
       "    </tr>\n",
       "    <tr>\n",
       "      <th>3</th>\n",
       "      <td>Tommy Hilfiger</td>\n",
       "      <td>Men Leather Sneakers</td>\n",
       "      <td>7999</td>\n",
       "    </tr>\n",
       "    <tr>\n",
       "      <th>4</th>\n",
       "      <td>Puma</td>\n",
       "      <td>Men Jamming 2.0 Running Shoes</td>\n",
       "      <td>12999</td>\n",
       "    </tr>\n",
       "    <tr>\n",
       "      <th>...</th>\n",
       "      <td>...</td>\n",
       "      <td>...</td>\n",
       "      <td>...</td>\n",
       "    </tr>\n",
       "    <tr>\n",
       "      <th>95</th>\n",
       "      <td>Saint G</td>\n",
       "      <td>Women Leather Heeled Boots</td>\n",
       "      <td>11815</td>\n",
       "    </tr>\n",
       "    <tr>\n",
       "      <th>96</th>\n",
       "      <td>Pavers England</td>\n",
       "      <td>Men Printed Loafers</td>\n",
       "      <td>11999</td>\n",
       "    </tr>\n",
       "    <tr>\n",
       "      <th>97</th>\n",
       "      <td>ALDO</td>\n",
       "      <td>Leather Slim Heels</td>\n",
       "      <td>8399</td>\n",
       "    </tr>\n",
       "    <tr>\n",
       "      <th>98</th>\n",
       "      <td>Geox</td>\n",
       "      <td>Leather Platform Sandals</td>\n",
       "      <td>9999</td>\n",
       "    </tr>\n",
       "    <tr>\n",
       "      <th>99</th>\n",
       "      <td>Geox</td>\n",
       "      <td>Men Striped Leather Sneakers</td>\n",
       "      <td>9990</td>\n",
       "    </tr>\n",
       "  </tbody>\n",
       "</table>\n",
       "<p>100 rows × 3 columns</p>\n",
       "</div>"
      ],
      "text/plain": [
       "             Brand               Short_Description    Price\n",
       "0             Nike      Men Winflo 7 Running Shoes     7995\n",
       "1             Nike  Men Blazer Court Skateboarding     7495\n",
       "2             Nike       Men Air Max Dawn Sneakers    10995\n",
       "3   Tommy Hilfiger            Men Leather Sneakers     7999\n",
       "4             Puma   Men Jamming 2.0 Running Shoes    12999\n",
       "..             ...                             ...      ...\n",
       "95         Saint G      Women Leather Heeled Boots    11815\n",
       "96  Pavers England             Men Printed Loafers    11999\n",
       "97            ALDO              Leather Slim Heels    8399 \n",
       "98            Geox        Leather Platform Sandals     9999\n",
       "99            Geox    Men Striped Leather Sneakers     9990\n",
       "\n",
       "[100 rows x 3 columns]"
      ]
     },
     "execution_count": 93,
     "metadata": {},
     "output_type": "execute_result"
    }
   ],
   "source": [
    "Shoe_Brand = pd.DataFrame(Shoe_Brand)\n",
    "Shoe_Brand"
   ]
  },
  {
   "cell_type": "raw",
   "id": "736298d8",
   "metadata": {},
   "source": [
    "Q8: Go to webpage https://www.amazon.in/\n",
    "Enter “Laptop” in the search field and then click the search icon.\n",
    "Then set CPU Type filter to “Intel Core i7” and “Intel Core i9” as shown in the below image:\n",
    "\n",
    "After setting the filters scrape first 10 laptops data. You have to scrape 3 attributesfor each laptop:\n",
    "1. Title\n",
    "2. Ratings\n",
    "3. Price\n",
    "As shown in the below image as the tick marked attributes.\n",
    "\n",
    "\n",
    "    \n"
   ]
  },
  {
   "cell_type": "code",
   "execution_count": 94,
   "id": "d82b8b39",
   "metadata": {},
   "outputs": [],
   "source": [
    "driver = webdriver.Chrome(r'C:\\Users\\welcome\\Desktop\\chromedriver_win32\\chromedriver.exe')"
   ]
  },
  {
   "cell_type": "code",
   "execution_count": 95,
   "id": "7d48730e",
   "metadata": {},
   "outputs": [],
   "source": [
    "url = 'https://www.amazon.in/'\n",
    "driver.get(url)\n"
   ]
  },
  {
   "cell_type": "code",
   "execution_count": 96,
   "id": "2dd5635c",
   "metadata": {},
   "outputs": [],
   "source": [
    "search_laptop = driver.find_element_by_id('twotabsearchtextbox')\n",
    "search_laptop.send_keys('Laptop')\n"
   ]
  },
  {
   "cell_type": "code",
   "execution_count": 97,
   "id": "82c84637",
   "metadata": {},
   "outputs": [],
   "source": [
    "search_btn10 = driver.find_element_by_id('nav-search-submit-button')\n",
    "search_btn10.click()"
   ]
  },
  {
   "cell_type": "code",
   "execution_count": 99,
   "id": "842e8d3e",
   "metadata": {},
   "outputs": [],
   "source": [
    "filter1 = driver.find_element_by_xpath('/html/body/div[1]/div[2]/div[1]/div[2]/div/div[3]/span/div[1]/div/div/div[5]/ul[3]/li[13]/span/a/div/label/i')\n",
    "filter1.click()"
   ]
  },
  {
   "cell_type": "code",
   "execution_count": 121,
   "id": "fc30a1b9",
   "metadata": {},
   "outputs": [],
   "source": [
    "Laptop = {}\n",
    "Laptop['Title'] = []\n",
    "Laptop['Price'] = []"
   ]
  },
  {
   "cell_type": "code",
   "execution_count": 122,
   "id": "5d7a8b77",
   "metadata": {},
   "outputs": [],
   "source": [
    "title = driver.find_elements_by_xpath('//span[@class=\"a-size-medium a-color-base a-text-normal\"]')\n",
    "for i in title:\n",
    "    Laptop['Title'].append(i.text)\n",
    "Laptop['Title'] = Laptop['Title'][:10]"
   ]
  },
  {
   "cell_type": "code",
   "execution_count": 123,
   "id": "48a0102b",
   "metadata": {},
   "outputs": [],
   "source": [
    "laptop_price = driver.find_elements_by_xpath('//span[@class=\"a-price-whole\"]')\n",
    "for i in laptop_price:\n",
    "    Laptop['Price'].append(i.text)\n",
    "Laptop['Price'] = Laptop['Price'][:10]"
   ]
  },
  {
   "cell_type": "code",
   "execution_count": 124,
   "id": "3dc1b339",
   "metadata": {},
   "outputs": [
    {
     "data": {
      "text/html": [
       "<div>\n",
       "<style scoped>\n",
       "    .dataframe tbody tr th:only-of-type {\n",
       "        vertical-align: middle;\n",
       "    }\n",
       "\n",
       "    .dataframe tbody tr th {\n",
       "        vertical-align: top;\n",
       "    }\n",
       "\n",
       "    .dataframe thead th {\n",
       "        text-align: right;\n",
       "    }\n",
       "</style>\n",
       "<table border=\"1\" class=\"dataframe\">\n",
       "  <thead>\n",
       "    <tr style=\"text-align: right;\">\n",
       "      <th></th>\n",
       "      <th>Title</th>\n",
       "      <th>Price</th>\n",
       "    </tr>\n",
       "  </thead>\n",
       "  <tbody>\n",
       "    <tr>\n",
       "      <th>0</th>\n",
       "      <td>Mi Notebook Ultra 3.2K resolution display Inte...</td>\n",
       "      <td>77,490</td>\n",
       "    </tr>\n",
       "    <tr>\n",
       "      <th>1</th>\n",
       "      <td>LG Gram 16 inches Intel Evo 11th Gen Core i7 U...</td>\n",
       "      <td>92,999</td>\n",
       "    </tr>\n",
       "    <tr>\n",
       "      <th>2</th>\n",
       "      <td>ASUS VivoBook 14 (2021), 14-inch (35.56 cms) F...</td>\n",
       "      <td>59,990</td>\n",
       "    </tr>\n",
       "    <tr>\n",
       "      <th>3</th>\n",
       "      <td>HP Pavilion x360 11th Gen Intel Core i7 14 inc...</td>\n",
       "      <td>86,490</td>\n",
       "    </tr>\n",
       "    <tr>\n",
       "      <th>4</th>\n",
       "      <td>Mi Notebook Horizon Edition 14 Intel Core i7-1...</td>\n",
       "      <td>59,990</td>\n",
       "    </tr>\n",
       "    <tr>\n",
       "      <th>5</th>\n",
       "      <td>ASUS TUF Gaming F15 (2021) 15.6-inch (39.62 cm...</td>\n",
       "      <td>96,990</td>\n",
       "    </tr>\n",
       "    <tr>\n",
       "      <th>6</th>\n",
       "      <td>Lenovo IdeaPad 5 Pro 11th Gen Intel Core i7 14...</td>\n",
       "      <td>81,990</td>\n",
       "    </tr>\n",
       "    <tr>\n",
       "      <th>7</th>\n",
       "      <td>Acer Nitro 5 11th Gen Intel Core i5-11400H 15....</td>\n",
       "      <td>65,990</td>\n",
       "    </tr>\n",
       "    <tr>\n",
       "      <th>8</th>\n",
       "      <td>LG Gram 16 inches Intel Evo 11th Gen Core i7 U...</td>\n",
       "      <td>92,999</td>\n",
       "    </tr>\n",
       "    <tr>\n",
       "      <th>9</th>\n",
       "      <td>LG Gram Intel Evo 11th Gen Core i7 17 inches U...</td>\n",
       "      <td>99,499</td>\n",
       "    </tr>\n",
       "  </tbody>\n",
       "</table>\n",
       "</div>"
      ],
      "text/plain": [
       "                                               Title   Price\n",
       "0  Mi Notebook Ultra 3.2K resolution display Inte...  77,490\n",
       "1  LG Gram 16 inches Intel Evo 11th Gen Core i7 U...  92,999\n",
       "2  ASUS VivoBook 14 (2021), 14-inch (35.56 cms) F...  59,990\n",
       "3  HP Pavilion x360 11th Gen Intel Core i7 14 inc...  86,490\n",
       "4  Mi Notebook Horizon Edition 14 Intel Core i7-1...  59,990\n",
       "5  ASUS TUF Gaming F15 (2021) 15.6-inch (39.62 cm...  96,990\n",
       "6  Lenovo IdeaPad 5 Pro 11th Gen Intel Core i7 14...  81,990\n",
       "7  Acer Nitro 5 11th Gen Intel Core i5-11400H 15....  65,990\n",
       "8  LG Gram 16 inches Intel Evo 11th Gen Core i7 U...  92,999\n",
       "9  LG Gram Intel Evo 11th Gen Core i7 17 inches U...  99,499"
      ]
     },
     "execution_count": 124,
     "metadata": {},
     "output_type": "execute_result"
    }
   ],
   "source": [
    "Amazon_Laptop = pd.DataFrame(Laptop)\n",
    "Amazon_Laptop"
   ]
  },
  {
   "cell_type": "code",
   "execution_count": null,
   "id": "bc6c0075",
   "metadata": {},
   "outputs": [],
   "source": []
  },
  {
   "cell_type": "code",
   "execution_count": null,
   "id": "9590d7ba",
   "metadata": {},
   "outputs": [],
   "source": []
  },
  {
   "cell_type": "code",
   "execution_count": null,
   "id": "3bf749a5",
   "metadata": {},
   "outputs": [],
   "source": []
  },
  {
   "cell_type": "code",
   "execution_count": null,
   "id": "a3ecd89a",
   "metadata": {},
   "outputs": [],
   "source": []
  }
 ],
 "metadata": {
  "kernelspec": {
   "display_name": "Python 3",
   "language": "python",
   "name": "python3"
  },
  "language_info": {
   "codemirror_mode": {
    "name": "ipython",
    "version": 3
   },
   "file_extension": ".py",
   "mimetype": "text/x-python",
   "name": "python",
   "nbconvert_exporter": "python",
   "pygments_lexer": "ipython3",
   "version": "3.8.8"
  }
 },
 "nbformat": 4,
 "nbformat_minor": 5
}
