{
 "cells": [
  {
   "cell_type": "markdown",
   "id": "106c58a7",
   "metadata": {},
   "source": [
    "# PYTHON – WORKSHEET 1\n",
    "### Q1 to Q8 have only one correct answer. Choose the correct option to answer your question.\n"
   ]
  },
  {
   "cell_type": "raw",
   "id": "75b6d324",
   "metadata": {},
   "source": [
    "1. Which of the following operators is used to calculate remainder in a division?\n",
    "A) #     B) &\n",
    "C) %     D) $\n",
    "Ans- C"
   ]
  },
  {
   "cell_type": "raw",
   "id": "6d5a50c8",
   "metadata": {},
   "source": [
    "2. In python 2//3 is equal to?\n",
    "A) 0.666 \n",
    "B) 0\n",
    "C) 1 \n",
    "D) 0.67\n",
    "Ans- B"
   ]
  },
  {
   "cell_type": "code",
   "execution_count": 2,
   "id": "054ce62c",
   "metadata": {},
   "outputs": [
    {
     "data": {
      "text/plain": [
       "0"
      ]
     },
     "execution_count": 2,
     "metadata": {},
     "output_type": "execute_result"
    }
   ],
   "source": [
    "2//3\n"
   ]
  },
  {
   "cell_type": "raw",
   "id": "4ad0c8eb",
   "metadata": {},
   "source": [
    "3. In python, 6<<2 is equal to?\n",
    "A) 36 \n",
    "B) 10\n",
    "C) 24 \n",
    "D) 45\n",
    "Ans- C"
   ]
  },
  {
   "cell_type": "code",
   "execution_count": 3,
   "id": "30858b35",
   "metadata": {},
   "outputs": [
    {
     "data": {
      "text/plain": [
       "24"
      ]
     },
     "execution_count": 3,
     "metadata": {},
     "output_type": "execute_result"
    }
   ],
   "source": [
    "6<<2"
   ]
  },
  {
   "cell_type": "raw",
   "id": "7a754e05",
   "metadata": {},
   "source": [
    "4. In python, 6&2 will give which of the following as output?\n",
    "A) 2 \n",
    "B) True\n",
    "C) False \n",
    "D) 0\n",
    "Ans- A"
   ]
  },
  {
   "cell_type": "code",
   "execution_count": 4,
   "id": "b4860ee2",
   "metadata": {},
   "outputs": [
    {
     "data": {
      "text/plain": [
       "2"
      ]
     },
     "execution_count": 4,
     "metadata": {},
     "output_type": "execute_result"
    }
   ],
   "source": [
    "6&2"
   ]
  },
  {
   "cell_type": "raw",
   "id": "620a1a25",
   "metadata": {},
   "source": [
    "5. In python, 6|2 will give which of the following as output?\n",
    "A) 2 \n",
    "B) 4\n",
    "C) 0 \n",
    "D) 6\n",
    "Ans- D"
   ]
  },
  {
   "cell_type": "code",
   "execution_count": 5,
   "id": "2f7adf65",
   "metadata": {},
   "outputs": [
    {
     "data": {
      "text/plain": [
       "6"
      ]
     },
     "execution_count": 5,
     "metadata": {},
     "output_type": "execute_result"
    }
   ],
   "source": [
    "6|2"
   ]
  },
  {
   "cell_type": "raw",
   "id": "25d86991",
   "metadata": {},
   "source": [
    "6. What does the finally keyword denotes in python?\n",
    "A) It is used to mark the end of the code\n",
    "B) It encloses the lines of code which will be executed if any error occurs while executing the lines of code in \n",
    "the try block.\n",
    "C) the finally block will be executed no matter if the try block raises an error or not.\n",
    "D) None of the above\n",
    "Ans- B"
   ]
  },
  {
   "cell_type": "raw",
   "id": "7ee5c9c2",
   "metadata": {},
   "source": [
    "7. What does raise keyword is used for in python?\n",
    "A) It is used to raise an exception. \n",
    "B) It is used to define lambda function\n",
    "C) it's not a keyword in python.\n",
    "D) None of the above\n",
    "Ans- A"
   ]
  },
  {
   "cell_type": "raw",
   "id": "a698d17d",
   "metadata": {},
   "source": [
    "8. Which of the following is a common use case of yield keyword in python?\n",
    "A) in defining an iterator \n",
    "B) while defining a lambda function\n",
    "C) in defining a generator \n",
    "D) in for loop.\n",
    "Ans- C"
   ]
  },
  {
   "cell_type": "markdown",
   "id": "e43fddf5",
   "metadata": {},
   "source": [
    "### Q9 and Q10 have multiple correct answers. Choose all the correct options to answer your question.\n",
    " "
   ]
  },
  {
   "cell_type": "raw",
   "id": "e15a86b1",
   "metadata": {},
   "source": [
    "9. Which of the following are the valid variable names?\n",
    "A) _abc \n",
    "B) 1abc\n",
    "C) abc2 \n",
    "D) None of the above\n",
    "Ans- B & C"
   ]
  },
  {
   "cell_type": "raw",
   "id": "38a560ad",
   "metadata": {},
   "source": [
    "10. Which of the following are the keywords in python?\n",
    "A) yield \n",
    "B) raise\n",
    "C) look-in \n",
    "D) all of the above\n",
    "Ans- A & B"
   ]
  },
  {
   "cell_type": "markdown",
   "id": "2c2c0581",
   "metadata": {},
   "source": [
    "### Q11 to Q15 are programming questions. Answer them in Jupyter Notebook. "
   ]
  },
  {
   "cell_type": "raw",
   "id": "3b71ed89",
   "metadata": {},
   "source": [
    "11. Write a python program to find the factorial of a number."
   ]
  },
  {
   "cell_type": "code",
   "execution_count": 6,
   "id": "79af756c",
   "metadata": {},
   "outputs": [
    {
     "name": "stdout",
     "output_type": "stream",
     "text": [
      "Factorial of 5 is 120\n"
     ]
    }
   ],
   "source": [
    "def factorial(n):\n",
    "    return 1 if (n==1 or n==0) else n * factorial(n - 1);\n",
    "num = 5;\n",
    "print(\"Factorial of\",num,\"is\",\n",
    "factorial(num))"
   ]
  },
  {
   "cell_type": "raw",
   "id": "dddeb704",
   "metadata": {},
   "source": [
    "12. Write a python program to find whether a number is prime or composite."
   ]
  },
  {
   "cell_type": "code",
   "execution_count": 1,
   "id": "400d632d",
   "metadata": {},
   "outputs": [
    {
     "name": "stdout",
     "output_type": "stream",
     "text": [
      "Entert  No: 5\n",
      "prime no\n"
     ]
    }
   ],
   "source": [
    "a=int(input('Entert  No: '))\n",
    "if a>1:\n",
    "    for x in range(2,a):\n",
    "        if (a%x)==0:\n",
    "            print('not a prime')\n",
    "            break\n",
    "        else:\n",
    "            print('prime no')\n",
    "            break\n",
    "else:\n",
    "    print('not prime')"
   ]
  },
  {
   "cell_type": "raw",
   "id": "93d25ce1",
   "metadata": {},
   "source": [
    "13. Write a python program to check whether a given string is palindrome or not."
   ]
  },
  {
   "cell_type": "code",
   "execution_count": 2,
   "id": "f0f2577d",
   "metadata": {},
   "outputs": [
    {
     "name": "stdout",
     "output_type": "stream",
     "text": [
      "enter valau : 121\n",
      "pailandrome\n"
     ]
    }
   ],
   "source": [
    "a=input('enter valau : ')\n",
    "b=a[::-1]\n",
    "if a==b:\n",
    "    print('pailandrome')\n",
    "    \n",
    "\n",
    "else:\n",
    "    print('not pailandrome')\n"
   ]
  },
  {
   "cell_type": "raw",
   "id": "b6b8fa90",
   "metadata": {},
   "source": [
    "14. Write a Python program to get the third side of right-angled triangle from two given sides."
   ]
  },
  {
   "cell_type": "code",
   "execution_count": 7,
   "id": "38fe119c",
   "metadata": {},
   "outputs": [
    {
     "name": "stdout",
     "output_type": "stream",
     "text": [
      "Hypotenuse = 12.041594578792296\n",
      "Adjacent = 6.0\n",
      "Opposite = 4.358898943540674\n",
      "You know the answer!\n"
     ]
    }
   ],
   "source": [
    "def pythagoras(opposite_side,adjacent_side,hypotenuse):\n",
    "    if opposite_side == str(\"x\"):\n",
    "        return (\"Opposite = \" + str(((hypotenuse**2) - (adjacent_side**2))**0.5))\n",
    "    elif adjacent_side == str(\"x\"):\n",
    "        return (\"Adjacent = \" + str(((hypotenuse**2) - (opposite_side**2))**0.5))\n",
    "    elif hypotenuse == str(\"x\"):\n",
    "        return (\"Hypotenuse = \" + str(((opposite_side**2) + (adjacent_side**2))**0.5))\n",
    "    else:\n",
    "        return \"You know the answer!\"\n",
    "print(pythagoras(8,9,'x'))\n",
    "print(pythagoras(8,'x',10))\n",
    "print(pythagoras('x',9,10))\n",
    "print(pythagoras(8,9,10))"
   ]
  },
  {
   "cell_type": "raw",
   "id": "4dcbd34c",
   "metadata": {},
   "source": [
    "15. Write a python program to print the frequency of each of the characters present in a given string."
   ]
  },
  {
   "cell_type": "code",
   "execution_count": 3,
   "id": "ad649556",
   "metadata": {},
   "outputs": [
    {
     "name": "stdout",
     "output_type": "stream",
     "text": [
      "Given String:  Satyam Gupta\n",
      "Frequency of each character :\n",
      "  {'S': 1, 'a': 3, 't': 2, 'y': 1, 'm': 1, ' ': 1, 'G': 1, 'u': 1, 'p': 1}\n"
     ]
    }
   ],
   "source": [
    "from collections import Counter\n",
    "\n",
    "# Given string\n",
    "strA = \"Satyam Gupta\"\n",
    "print(\"Given String: \",strA)\n",
    "# Using counter\n",
    "res = {}\n",
    "\n",
    "for keys in strA:\n",
    "    res[keys] = res.get(keys, 0) + 1\n",
    "\n",
    "# Result\n",
    "print(\"Frequency of each character :\\n \",res)"
   ]
  },
  {
   "cell_type": "code",
   "execution_count": null,
   "id": "efce05dc",
   "metadata": {},
   "outputs": [],
   "source": []
  },
  {
   "cell_type": "code",
   "execution_count": null,
   "id": "f6c905a5",
   "metadata": {},
   "outputs": [],
   "source": []
  },
  {
   "cell_type": "code",
   "execution_count": null,
   "id": "da980d02",
   "metadata": {},
   "outputs": [],
   "source": []
  }
 ],
 "metadata": {
  "kernelspec": {
   "display_name": "Python 3",
   "language": "python",
   "name": "python3"
  },
  "language_info": {
   "codemirror_mode": {
    "name": "ipython",
    "version": 3
   },
   "file_extension": ".py",
   "mimetype": "text/x-python",
   "name": "python",
   "nbconvert_exporter": "python",
   "pygments_lexer": "ipython3",
   "version": "3.8.8"
  }
 },
 "nbformat": 4,
 "nbformat_minor": 5
}
